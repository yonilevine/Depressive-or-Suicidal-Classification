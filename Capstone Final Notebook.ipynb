{
 "cells": [
  {
   "cell_type": "markdown",
   "metadata": {},
   "source": [
    "# From Depression to Suicide, How The Way We Speak Predicts The Way We Feel\n",
    "## By Yoni Levine"
   ]
  },
  {
   "cell_type": "markdown",
   "metadata": {
    "collapsed": true
   },
   "source": [
    "### Executive Summary\n",
    "The goal of my project was to determine if I could classify which users of a depression forum, would eventually become suicidal, based on the words that they used when describing their depression. I began by scraping [takethislife.com](https://www.takethislife.com) a website that contains forums that provide support to those dealing with suicidal or depressive feelings. I scraped both the depression and suicide forum for the text of the posts and the usernames along with some other metrics I felt would help identify users as suicidal or not. By using NLP I hoped to learn what words were indicative of the difference in the way the two groups speak. I hope that one day research on the topic will advance enough to allow us to diagnose serious mental illness well in advance and help patients seek help before they become a threat to themselves.\n",
    "### Introduction\n",
    "Unfortunately, the numbers of depression are on the rise. According to [this](https://www.nimh.nih.gov/health/statistics/prevalence/major-depression-among-adults.shtml) study by the NIH, nearly 7 percent of US adults, and over ten percent of those between the ages of 18-25, have had a major depressive episode in the last year. According to the [CDC](https://www.cdc.gov/nchs/products/databriefs/db76.htm) less than one-third of Americans taking one antidepressant medication and less than one-half of those taking multiple antidepressants have seen a mental health professional in the past year. The internet has become a tremendous source of people reaching out for help. Having all this public data gives us a tremendous opportunity to study this population and try to understand what factors put someone at risk.\n",
    "### Methods\n",
    "I began the predictive part of my project by labeling my data. I took all of the depressive data and labeled each post with a one or zero indicating if that poster had also posted in the suicide forum or not. The analysis was done using Natural Language Processing and TFIDF, which scores the words on how rarely they appear in all of our text, which means that the word would potentially have more meaning than a word that is frequently said. It is great for comparing how different groups use different words. I built several different models to see which of those would end up doing the best at predicting suicide. The two that performed the best were SVC with a linear kernel and logistic regression. I grid searched the best parameters for these two models and ultimately went with logistic regression , it had a roc-auc score of .78, the recall or true positive rate for the suicidal class was .72 , this means that 72 percent of the time that a user was, in fact, suicidal or not. Since I wanted to maximize my model correct guesses of people who were suicidal even at the risk of misclassifying some other users I created another model where I weighted or increased the probability of predicting suicide as higher. With this method, I was able to get my model's recall up to 83 . This obviously comes at a cost of telling people who are not suicidal that they are, which is something that I wanted to minimize, I therefore limited the extent to which I weighted my model, even though medical studies will often weight their classes quite heavily in order to catch all of the true positive occurrences.\n",
    "### Findings \n",
    "While I can't go through each of the nearly ten thousand words that remained in our text after I cleaned it, I want to share some words from each class that I thought were interesting and indicative of each group. Some of the words that strongly indicated suicide were, 'idk' possibly indicating a feeling of being lost, 'mean', 'pain', 'peace', 'cutting', 'no longer', 'survive', 'loser', 'tired', 'don't deserve', 'cold', 'watched', 'music', 'hallucination', 'sinking', 'sexual abuse', 'the hospital', 'bible','schizophrenia','doing drug' and 'invisible'. Some of the words associated with depression were 'I'm selfish', 'he loved me', 'therapy', 'cycle of', 'my ex', she told me that she', 'and watch tv', 'friends', 'feel uncomfortable/down', 'hope for the future', 'diagnoses', 'dog', 'divorced', 'single', 'not suicidal', 'university', 'sober', and 'in a rut'.\n",
    "### Conclusion \n",
    "The fairly high success rate at which my model was able to accurately predict suicide indicates that there is, in fact, a difference in the way the two groups speak. The words attributed to each class and the clearly different stories that each one tells indicates this as well. These words can also be used for informal inference in the way in which we try to help those that are suffering from depression, for example people who used the word 'dog' were 40 percent more likely to fall into the depression class, which makes sense but is something people would probably rarely think of as an actual \"treatment\".\n",
    "### Moving Forward \n",
    "While the words that I chose above were indicative of a very specific story I was trying to tell, the full list of nearly ten thousand words was, in fact, a bit messy, with some overlap between the classes. I think that they could be largely cleaned up by using an industry specific stop words list to remove words that are confusing the model, as well as a modern day texting/abreviation stop words. Another option I would explore would be to tag my text based on whether it is a specific part of speech, say a noun or verb, to see if the different groups actually describe their circumstances differently. Obviously, the more data we have the better we can train our model to understand what we want, sites like Reddit also contain large forums dedicated to depression and suicide that can be explored as well. Last but certainly not least I would love to get my model into a deployable form so it can be used **by those who understand the industry** as an aid. This project was an incredible experience to work on and I hope that future data can help improve it and save lives.\n",
    "\n",
    "\n",
    "[The data is available as a download on my dropbox](https://www.dropbox.com/s/mkpih20fy6zojq6/depressionnlp%20copy.csv?dl=1)"
   ]
  },
  {
   "cell_type": "code",
   "execution_count": 116,
   "metadata": {
    "collapsed": true
   },
   "outputs": [],
   "source": [
    "import pandas as pd\n",
    "from bs4 import BeautifulSoup\n",
    "from selenium import webdriver\n",
    "from selenium.webdriver.common.by import By\n",
    "from selenium.webdriver.support.ui import WebDriverWait\n",
    "from selenium.webdriver.support import expected_conditions as EC\n",
    "from selenium.common.exceptions import TimeoutException\n",
    "from time import sleep\n",
    "import numpy as np\n",
    "import seaborn as sns\n",
    "import matplotlib.pyplot as plt\n",
    "import bokeh \n",
    "import re\n",
    "from sklearn.feature_extraction.text import CountVectorizer, HashingVectorizer, TfidfVectorizer, TfidfTransformer\n",
    "from sklearn import metrics\n",
    "from sklearn.naive_bayes import MultinomialNB, BernoulliNB, GaussianNB\n",
    "from sklearn.model_selection import train_test_split, cross_val_score, GridSearchCV\n",
    "from sklearn.metrics import classification_report,confusion_matrix\n",
    "from sklearn.pipeline import Pipeline\n",
    "from sklearn.linear_model import LogisticRegression\n",
    "from sklearn.ensemble import RandomForestClassifier\n",
    "from sklearn.svm import SVC\n",
    "import requests\n",
    "import string\n",
    "from nltk.stem import WordNetLemmatizer\n",
    "import time\n",
    "from nltk.tokenize import RegexpTokenizer\n",
    "import nltk\n",
    "from sklearn.metrics import roc_curve, auc\n",
    "from nltk.corpus import stopwords\n",
    "import itertools\n",
    "%matplotlib inline\n",
    "\n"
   ]
  },
  {
   "cell_type": "code",
   "execution_count": 120,
   "metadata": {
    "collapsed": true
   },
   "outputs": [],
   "source": [
    "# Functions that I use in my notebook\n",
    "# Hat tip Roland Jennier\n",
    "def eda_helper(df):\n",
    "    dict_list = []\n",
    "    for col in df.columns:\n",
    "        data = df[col]\n",
    "        dict_ = {}\n",
    "        # The null count for a column. Columns with no nulls are generally more interesting\n",
    "        dict_.update({\"null_count\" : data.isnull().sum()})\n",
    "        # Counting the unique values in a column\n",
    "        # This is useful for seeing how interesting the column might be as a feature\n",
    "        dict_.update({\"unique_count\" : len(data.unique())})\n",
    "        # Finding the types of data in the column\n",
    "        # This is useful for finding out potential problems with a column having strings and ints\n",
    "        dict_.update({\"data_type\" : set([type(d).__name__ for d in data])})\n",
    "        #dict_.update({\"score\" : match[1]})\n",
    "        dict_list.append(dict_)\n",
    "    eda_df = pd.DataFrame(dict_list)\n",
    "    eda_df.index = df.columns\n",
    "        \n",
    "    return eda_df\n",
    "\n",
    "##http://scikit-learn.org/stable/auto_examples/model_selection/plot_confusion_matrix.html#sphx-glr-auto-examples-model-selection-plot-confusion-matrix-py\n",
    "def plot_confusion_matrix(cm, classes,\n",
    "                          normalize=False,\n",
    "                          title='Confusion matrix',\n",
    "                          cmap=plt.cm.Blues):\n",
    "    \"\"\"\n",
    "    This function prints and plots the confusion matrix.\n",
    "    Normalization can be applied by setting `normalize=True`.\n",
    "    \"\"\"\n",
    "    if normalize:\n",
    "        cm = cm.astype('float') / cm.sum(axis=1)[:, np.newaxis]\n",
    "        print(\"Normalized confusion matrix\")\n",
    "    else:\n",
    "        print('Confusion matrix, without normalization')\n",
    "\n",
    "    print(cm)\n",
    "\n",
    "    plt.imshow(cm, interpolation='nearest', cmap=cmap)\n",
    "    plt.title(title)\n",
    "    plt.colorbar()\n",
    "    tick_marks = np.arange(len(classes))\n",
    "    plt.xticks(tick_marks, classes, rotation=45)\n",
    "    plt.yticks(tick_marks, classes)\n",
    "\n",
    "    fmt = '.2f' if normalize else 'd'\n",
    "    thresh = cm.max() / 2.\n",
    "    for i, j in itertools.product(range(cm.shape[0]), range(cm.shape[1])):\n",
    "        plt.text(j, i, format(cm[i, j], fmt),\n",
    "                 horizontalalignment=\"center\",\n",
    "                 color=\"white\" if cm[i, j] > thresh else \"black\")\n",
    "\n",
    "    plt.tight_layout()\n",
    "    plt.ylabel('True label')\n",
    "    plt.xlabel('Predicted label')\n",
    "\n"
   ]
  },
  {
   "cell_type": "markdown",
   "metadata": {},
   "source": [
    "### Webscraper"
   ]
  },
  {
   "cell_type": "code",
   "execution_count": null,
   "metadata": {
    "collapsed": true
   },
   "outputs": [],
   "source": [
    "\n",
    "chrome_path = r\"C:\\Users\\yonilevine\\Downloads\\chromedriver.exe\""
   ]
  },
  {
   "cell_type": "code",
   "execution_count": null,
   "metadata": {
    "collapsed": true
   },
   "outputs": [],
   "source": [
    "driver2 = webdriver.Chrome(executable_path=\"/Users/yonilevine/Downloads/chromedriver\")"
   ]
  },
  {
   "cell_type": "code",
   "execution_count": null,
   "metadata": {
    "collapsed": true
   },
   "outputs": [],
   "source": [
    "driver2.get(\"http://www.takethislife.com/depression/why-im-pissed-off-25528/\")    "
   ]
  },
  {
   "cell_type": "code",
   "execution_count": null,
   "metadata": {
    "collapsed": true
   },
   "outputs": [],
   "source": [
    "username=driver2.find_element_by_xpath(\"\"\"//*[@id=\"navbar_username\"]\"\"\")\n",
    "password=driver2.find_element_by_xpath(\"\"\"//*[@id=\"navbar_password\"]\"\"\")\n",
    "username.send_keys(\"abcdef\")\n",
    "password.send_keys(\"!@#$%&!@#\")\n",
    "driver2.find_element_by_xpath(\"\"\"/html/body/div[2]/div/div/table[1]/tbody/tr/td[2]/form/table/tbody/tr[2]/td[3]/input\"\"\").click()\n",
    "sleep(10)"
   ]
  },
  {
   "cell_type": "code",
   "execution_count": null,
   "metadata": {
    "collapsed": true
   },
   "outputs": [],
   "source": [
    "driver2.find_element_by_xpath(\"\"\"//*[@id=\"thread_title_275345\"]\"\"\").click()"
   ]
  },
  {
   "cell_type": "code",
   "execution_count": null,
   "metadata": {
    "collapsed": true
   },
   "outputs": [],
   "source": [
    "driver2.find_element_by_xpath(\"\"\"/html/body/div[3]/div/div/div[2]/a\"\"\").click()"
   ]
  },
  {
   "cell_type": "code",
   "execution_count": null,
   "metadata": {
    "collapsed": true
   },
   "outputs": [],
   "source": [
    "depression= pd.DataFrame(columns=['username','text',\"posts\",\"swedishfish\"])"
   ]
  },
  {
   "cell_type": "code",
   "execution_count": null,
   "metadata": {
    "collapsed": true
   },
   "outputs": [],
   "source": [
    "##this is the main part of my scraper it is clicking through 18000 pages and getting four things that I need from the \n",
    "##html, the username, the post text,the number of siteposts by that user and the number of swedish fish for that user\n",
    "##it then saves it to a dataframe as it goes along\n",
    "for item in range(1,18000-len(depression)):\n",
    "    html = driver2.page_source\n",
    "    html2=BeautifulSoup(html,'html.parser', from_encoding=\"utf-8\")\n",
    "    text=html2.find(\"div\", id=re.compile(\"^post_message\")).get_text()\n",
    "    name=html2.find('a',class_='bigusername').get_text()\n",
    "    q=html2.find(\"div\", id=\"posts\").get_text()\n",
    "    posts=q[100:300]\n",
    "    swedishfish=q[100:300]\n",
    "    driver2.find_element_by_xpath(\"\"\"/html/body/div[3]/div/div/div[2]/a[1]\"\"\").click()\n",
    "    depression.loc[len(depression)]=[name, text, posts, swedishfish]\n",
    "    sleep(.5)\n",
    "    print len(depression)\n",
    "driver2.close()\n",
    "depression\n"
   ]
  },
  {
   "cell_type": "code",
   "execution_count": null,
   "metadata": {
    "collapsed": true
   },
   "outputs": [],
   "source": [
    "#Parses siteposts out of html                \n",
    "def get_posts(x):\n",
    "    block = x.split()\n",
    "    for i, word in enumerate(block):\n",
    "        if 'post' in word.lower():\n",
    "            try:\n",
    "                return block[i + 1]\n",
    "            except:\n",
    "                None\n",
    "                "
   ]
  },
  {
   "cell_type": "code",
   "execution_count": null,
   "metadata": {
    "collapsed": true
   },
   "outputs": [],
   "source": [
    "##Using function I wrote to clean part of the html\n",
    "depression.posts=depression.posts.apply(get_posts)"
   ]
  },
  {
   "cell_type": "code",
   "execution_count": null,
   "metadata": {
    "collapsed": true
   },
   "outputs": [],
   "source": [
    "#Parses swedish fish out of html\n",
    "def get_swedish_fish(x):\n",
    "    block = x.split()\n",
    "    for i, word in enumerate(block):\n",
    "        if 'fish' in word.lower():\n",
    "            try:\n",
    "                return block[i + 1]\n",
    "            except:\n",
    "                None"
   ]
  },
  {
   "cell_type": "code",
   "execution_count": null,
   "metadata": {
    "collapsed": true
   },
   "outputs": [],
   "source": [
    "depression.swedishfish=depression.swedishfish.apply(get_swedish_fish)"
   ]
  },
  {
   "cell_type": "code",
   "execution_count": null,
   "metadata": {
    "collapsed": true
   },
   "outputs": [],
   "source": [
    "##getting rid of white space\n",
    "depression.text=[' '.join(item.split()) for item in depression.text]"
   ]
  },
  {
   "cell_type": "code",
   "execution_count": null,
   "metadata": {
    "collapsed": true
   },
   "outputs": [],
   "source": [
    "## I performed all steps above on the suicide forum using the same method as above.\n",
    "depression.to_csv(\"~/Desktop/Capstone/depression.csv\",encoding='utf-8')"
   ]
  },
  {
   "cell_type": "markdown",
   "metadata": {
    "collapsed": true
   },
   "source": [
    "### EDA"
   ]
  },
  {
   "cell_type": "code",
   "execution_count": 5,
   "metadata": {
    "collapsed": true
   },
   "outputs": [],
   "source": [
    "depression=pd.read_csv(\"/Users/yonilevine/Desktop/Capstone/datasets/depression_17000_clean.csv\")\n",
    "\n",
    "suicide=pd.read_csv(\"/Users/yonilevine/Desktop/Capstone/datasets/suicide_full.csv\")"
   ]
  },
  {
   "cell_type": "code",
   "execution_count": 6,
   "metadata": {},
   "outputs": [
    {
     "data": {
      "text/html": [
       "<div>\n",
       "<style>\n",
       "    .dataframe thead tr:only-child th {\n",
       "        text-align: right;\n",
       "    }\n",
       "\n",
       "    .dataframe thead th {\n",
       "        text-align: left;\n",
       "    }\n",
       "\n",
       "    .dataframe tbody tr th {\n",
       "        vertical-align: top;\n",
       "    }\n",
       "</style>\n",
       "<table border=\"1\" class=\"dataframe\">\n",
       "  <thead>\n",
       "    <tr style=\"text-align: right;\">\n",
       "      <th></th>\n",
       "      <th>username</th>\n",
       "      <th>text</th>\n",
       "      <th>posts</th>\n",
       "      <th>swedishfish</th>\n",
       "    </tr>\n",
       "  </thead>\n",
       "  <tbody>\n",
       "    <tr>\n",
       "      <th>0</th>\n",
       "      <td>Juno2</td>\n",
       "      <td>I've kept my depression and OCD hidden from my...</td>\n",
       "      <td>7.00</td>\n",
       "      <td>0.00</td>\n",
       "    </tr>\n",
       "    <tr>\n",
       "      <th>1</th>\n",
       "      <td>TimeTourist</td>\n",
       "      <td>I've had clinical depression for a little over...</td>\n",
       "      <td>36.00</td>\n",
       "      <td>23.00</td>\n",
       "    </tr>\n",
       "    <tr>\n",
       "      <th>2</th>\n",
       "      <td>InSearchOfPeople</td>\n",
       "      <td>Yesterday I quit my job of 5 years. This job g...</td>\n",
       "      <td>268.00</td>\n",
       "      <td>92.00</td>\n",
       "    </tr>\n",
       "    <tr>\n",
       "      <th>3</th>\n",
       "      <td>InSearchOfPeople</td>\n",
       "      <td>I got a new roommate. A guy who found me on FB...</td>\n",
       "      <td>268.00</td>\n",
       "      <td>92.00</td>\n",
       "    </tr>\n",
       "    <tr>\n",
       "      <th>4</th>\n",
       "      <td>Lilyfrog</td>\n",
       "      <td>Ok. Had a really bad weekend this weekend gone...</td>\n",
       "      <td>164.00</td>\n",
       "      <td>271.00</td>\n",
       "    </tr>\n",
       "  </tbody>\n",
       "</table>\n",
       "</div>"
      ],
      "text/plain": [
       "           username                                               text  \\\n",
       "0             Juno2  I've kept my depression and OCD hidden from my...   \n",
       "1       TimeTourist  I've had clinical depression for a little over...   \n",
       "2  InSearchOfPeople  Yesterday I quit my job of 5 years. This job g...   \n",
       "3  InSearchOfPeople  I got a new roommate. A guy who found me on FB...   \n",
       "4          Lilyfrog  Ok. Had a really bad weekend this weekend gone...   \n",
       "\n",
       "    posts swedishfish  \n",
       "0    7.00        0.00  \n",
       "1   36.00       23.00  \n",
       "2  268.00       92.00  \n",
       "3  268.00       92.00  \n",
       "4  164.00      271.00  "
      ]
     },
     "execution_count": 6,
     "metadata": {},
     "output_type": "execute_result"
    }
   ],
   "source": [
    "depression.head()"
   ]
  },
  {
   "cell_type": "code",
   "execution_count": 7,
   "metadata": {},
   "outputs": [
    {
     "data": {
      "text/html": [
       "<div>\n",
       "<style>\n",
       "    .dataframe thead tr:only-child th {\n",
       "        text-align: right;\n",
       "    }\n",
       "\n",
       "    .dataframe thead th {\n",
       "        text-align: left;\n",
       "    }\n",
       "\n",
       "    .dataframe tbody tr th {\n",
       "        vertical-align: top;\n",
       "    }\n",
       "</style>\n",
       "<table border=\"1\" class=\"dataframe\">\n",
       "  <thead>\n",
       "    <tr style=\"text-align: right;\">\n",
       "      <th></th>\n",
       "      <th>Unnamed: 0</th>\n",
       "      <th>username</th>\n",
       "      <th>text</th>\n",
       "      <th>posts</th>\n",
       "      <th>swedishfish</th>\n",
       "    </tr>\n",
       "  </thead>\n",
       "  <tbody>\n",
       "    <tr>\n",
       "      <th>0</th>\n",
       "      <td>0</td>\n",
       "      <td>nocturne</td>\n",
       "      <td>I used \"chat\" rather. Told the \"counselor\" my ...</td>\n",
       "      <td>70.0</td>\n",
       "      <td>11.00</td>\n",
       "    </tr>\n",
       "    <tr>\n",
       "      <th>1</th>\n",
       "      <td>1</td>\n",
       "      <td>gpp98933</td>\n",
       "      <td>hi, I'm 15 years old, and since i'm 12 i've be...</td>\n",
       "      <td>3.0</td>\n",
       "      <td>0.00</td>\n",
       "    </tr>\n",
       "    <tr>\n",
       "      <th>2</th>\n",
       "      <td>2</td>\n",
       "      <td>Gxdhatesme</td>\n",
       "      <td>Words are not enough to describe the anger, th...</td>\n",
       "      <td>4.0</td>\n",
       "      <td>0.00</td>\n",
       "    </tr>\n",
       "    <tr>\n",
       "      <th>3</th>\n",
       "      <td>3</td>\n",
       "      <td>Piece of crap</td>\n",
       "      <td>deleted</td>\n",
       "      <td>1.0</td>\n",
       "      <td>0.00</td>\n",
       "    </tr>\n",
       "    <tr>\n",
       "      <th>4</th>\n",
       "      <td>4</td>\n",
       "      <td>FalseSmile</td>\n",
       "      <td>Before anyone reads this please understand i a...</td>\n",
       "      <td>1.0</td>\n",
       "      <td>0.00</td>\n",
       "    </tr>\n",
       "  </tbody>\n",
       "</table>\n",
       "</div>"
      ],
      "text/plain": [
       "   Unnamed: 0       username  \\\n",
       "0           0       nocturne   \n",
       "1           1       gpp98933   \n",
       "2           2     Gxdhatesme   \n",
       "3           3  Piece of crap   \n",
       "4           4     FalseSmile   \n",
       "\n",
       "                                                text  posts swedishfish  \n",
       "0  I used \"chat\" rather. Told the \"counselor\" my ...   70.0       11.00  \n",
       "1  hi, I'm 15 years old, and since i'm 12 i've be...    3.0        0.00  \n",
       "2  Words are not enough to describe the anger, th...    4.0        0.00  \n",
       "3                                            deleted    1.0        0.00  \n",
       "4  Before anyone reads this please understand i a...    1.0        0.00  "
      ]
     },
     "execution_count": 7,
     "metadata": {},
     "output_type": "execute_result"
    }
   ],
   "source": [
    "suicide.head()"
   ]
  },
  {
   "cell_type": "code",
   "execution_count": 8,
   "metadata": {
    "collapsed": true
   },
   "outputs": [],
   "source": [
    "suicide.drop(\"Unnamed: 0\",axis=1,inplace=True)"
   ]
  },
  {
   "cell_type": "code",
   "execution_count": 9,
   "metadata": {},
   "outputs": [
    {
     "data": {
      "text/plain": [
       "username         0\n",
       "text            10\n",
       "posts          186\n",
       "swedishfish     34\n",
       "dtype: int64"
      ]
     },
     "execution_count": 9,
     "metadata": {},
     "output_type": "execute_result"
    }
   ],
   "source": [
    "depression.isnull().sum()"
   ]
  },
  {
   "cell_type": "code",
   "execution_count": 10,
   "metadata": {},
   "outputs": [
    {
     "data": {
      "text/plain": [
       "username         0\n",
       "text             2\n",
       "posts           63\n",
       "swedishfish    243\n",
       "dtype: int64"
      ]
     },
     "execution_count": 10,
     "metadata": {},
     "output_type": "execute_result"
    }
   ],
   "source": [
    "suicide.isnull().sum()"
   ]
  },
  {
   "cell_type": "code",
   "execution_count": 11,
   "metadata": {
    "collapsed": true
   },
   "outputs": [],
   "source": [
    "#replacing spaces in usernames with _ so they are easy to reference\n",
    "depression['username']=[name.replace(' ','_').lower() for name in depression.username]"
   ]
  },
  {
   "cell_type": "code",
   "execution_count": 12,
   "metadata": {
    "collapsed": true
   },
   "outputs": [],
   "source": [
    "suicide['username']=[name.replace(' ','_').lower() for name in suicide.username]"
   ]
  },
  {
   "cell_type": "code",
   "execution_count": 13,
   "metadata": {
    "collapsed": true
   },
   "outputs": [],
   "source": [
    "#renaming columns\n",
    "depression.rename(columns={'posts':'siteposts'},inplace=True)\n",
    "suicide.rename(columns={'posts':'siteposts'},inplace=True)"
   ]
  },
  {
   "cell_type": "code",
   "execution_count": 14,
   "metadata": {},
   "outputs": [
    {
     "data": {
      "text/plain": [
       "username        object\n",
       "text            object\n",
       "siteposts      float64\n",
       "swedishfish     object\n",
       "dtype: object"
      ]
     },
     "execution_count": 14,
     "metadata": {},
     "output_type": "execute_result"
    }
   ],
   "source": [
    "suicide.dtypes"
   ]
  },
  {
   "cell_type": "code",
   "execution_count": 15,
   "metadata": {
    "collapsed": true
   },
   "outputs": [],
   "source": [
    "##dropping any row that has a null in the text column\n",
    "depression=depression.dropna(how='any',subset=['text'])\n",
    "suicide=suicide.dropna(how='any',subset=['text'])"
   ]
  },
  {
   "cell_type": "code",
   "execution_count": 16,
   "metadata": {
    "collapsed": true
   },
   "outputs": [],
   "source": [
    "##getting rid of duplicated rows\n",
    "depression.drop_duplicates(inplace=True)\n",
    "suicide.drop_duplicates(inplace=True)"
   ]
  },
  {
   "cell_type": "code",
   "execution_count": 17,
   "metadata": {
    "collapsed": true
   },
   "outputs": [],
   "source": [
    "##making a list of each unique usernames in each dataframe\n",
    "dnames=depression.username.unique()\n",
    "snames=suicide.username.unique()"
   ]
  },
  {
   "cell_type": "code",
   "execution_count": 18,
   "metadata": {
    "collapsed": true
   },
   "outputs": [],
   "source": [
    "##making a dummy variable in my depression column, if the poster of that message's username also apears in the \n",
    "#suicide it gets a 1 if not a 0\n",
    "overlapdummy=[]\n",
    "for item in depression.username:\n",
    "    if item in snames:\n",
    "        overlapdummy.append(1)\n",
    "    else:\n",
    "        overlapdummy.append(0)"
   ]
  },
  {
   "cell_type": "code",
   "execution_count": 88,
   "metadata": {
    "collapsed": true
   },
   "outputs": [],
   "source": [
    "overlapdummys=[]\n",
    "for item in suicide.username:\n",
    "    if item in dnames:\n",
    "        overlapdummys.append(1)\n",
    "    else:\n",
    "        overlapdummys.append(0)"
   ]
  },
  {
   "cell_type": "code",
   "execution_count": 113,
   "metadata": {},
   "outputs": [
    {
     "data": {
      "text/plain": [
       "1093"
      ]
     },
     "execution_count": 113,
     "metadata": {},
     "output_type": "execute_result"
    }
   ],
   "source": [
    "count=0\n",
    "for name in snames:\n",
    "    if name in dnames:\n",
    "        count+=1\n",
    "        \n",
    "count"
   ]
  },
  {
   "cell_type": "code",
   "execution_count": null,
   "metadata": {
    "collapsed": true
   },
   "outputs": [],
   "source": []
  },
  {
   "cell_type": "code",
   "execution_count": 21,
   "metadata": {
    "collapsed": true
   },
   "outputs": [],
   "source": [
    "depression['insuicide']=overlapdummy"
   ]
  },
  {
   "cell_type": "code",
   "execution_count": 22,
   "metadata": {
    "collapsed": true
   },
   "outputs": [],
   "source": [
    "##doing some manual filling in of usernames who are missing values\n",
    "m1=suicide.username=='silent_cry'\n",
    "m2=suicide.username=='brandysnap'\n",
    "m3=suicide.username=='unhappy19uk'\n",
    "m4=suicide.username=='tears_of_stone'\n",
    "m5=suicide.username=='dreamer'\n",
    "m6=suicide.username=='strawbean'\n",
    "m7=suicide.username=='gracekeeper'\n",
    "m8=suicide.username=='shuddering_desolation'\n",
    "m9=suicide.username=='unhappy19uk'\n",
    "m10=suicide.username=='funnybone'\n",
    "m11=suicide.username=='girllost'\n",
    "m12=suicide.username=='kajay15'\n",
    "suicide.loc[m1,'siteposts']=22768\n",
    "suicide.loc[m2,'siteposts']=22164\n",
    "suicide.loc[m3,'swedishfish']=34\n",
    "suicide.loc[m3,'siteposts']=820\n",
    "suicide.loc[m4,'siteposts']=1356\n",
    "suicide.loc[m4,'swedishfish']=389\n",
    "suicide.loc[m5,'siteposts']=4075\n",
    "suicide.loc[m6,'siteposts']=11029\n",
    "suicide.loc[m7,'siteposts']=271\n",
    "suicide.loc[m8,'siteposts']=49\n",
    "suicide.loc[m9,'siteposts']=820\n",
    "suicide.loc[m10,'siteposts']=141\n",
    "suicide.loc[m11,'siteposts']=148\n",
    "suicide.loc[m12,'siteposts']=14\n",
    "suicide.loc[m5,'swedishfish']=0\n",
    "suicide.loc[m6,'swedishfish']=478\n",
    "suicide.loc[m7,'swedishfish']=0\n",
    "suicide.loc[m8,'swedishfish']=0\n",
    "suicide.loc[m9,'swedishfish']=34\n",
    "suicide.loc[m10,'swedishfish']=1\n",
    "suicide.loc[m11,'swedishfish']=11\n",
    "suicide.loc[m12,'swedishfish']=0\n",
    "m13=suicide.username=='crimson'\n",
    "suicide.loc[m13,'swedishfish']=58\n",
    "m14=suicide.username=='blackrosesxbleedinghearts'\n",
    "suicide.loc[m14,'swedishfish']=609\n",
    "m15=suicide.username=='venom'\n",
    "suicide.loc[m15,'swedishfish']=1515\n",
    "m16=suicide.username=='rastronomy'\n",
    "suicide.loc[m16,'swedishfish']=30\n",
    "m17=suicide.username=='hiddenstorms'\n",
    "suicide.loc[m17,'swedishfish']=604\n",
    "m18=suicide.username=='versae'\n",
    "suicide.loc[m18,'swedishfish']=2059\n",
    "m19=suicide.username=='kiss_of_darkness'\n",
    "suicide.loc[m19,'swedishfish']=0\n",
    "m20=suicide.username=='albinorat'\n",
    "suicide.loc[m20,'swedishfish']=200\n",
    "m21=suicide.swedishfish.isnull()\n",
    "suicide.loc[m21,'swedishfish']=15"
   ]
  },
  {
   "cell_type": "code",
   "execution_count": 23,
   "metadata": {
    "collapsed": true
   },
   "outputs": [],
   "source": [
    "##making a copy of my dataframe so I can drop any nulls and look at the numbers across the dataframes\n",
    "depression2=pd.DataFrame(depression)"
   ]
  },
  {
   "cell_type": "code",
   "execution_count": 34,
   "metadata": {},
   "outputs": [
    {
     "data": {
      "text/html": [
       "<div>\n",
       "<style>\n",
       "    .dataframe thead tr:only-child th {\n",
       "        text-align: right;\n",
       "    }\n",
       "\n",
       "    .dataframe thead th {\n",
       "        text-align: left;\n",
       "    }\n",
       "\n",
       "    .dataframe tbody tr th {\n",
       "        vertical-align: top;\n",
       "    }\n",
       "</style>\n",
       "<table border=\"1\" class=\"dataframe\">\n",
       "  <thead>\n",
       "    <tr style=\"text-align: right;\">\n",
       "      <th></th>\n",
       "      <th>username</th>\n",
       "      <th>text</th>\n",
       "      <th>siteposts</th>\n",
       "      <th>swedishfish</th>\n",
       "      <th>insuicide</th>\n",
       "    </tr>\n",
       "  </thead>\n",
       "  <tbody>\n",
       "    <tr>\n",
       "      <th>0</th>\n",
       "      <td>juno2</td>\n",
       "      <td>I've kept my depression and OCD hidden from my...</td>\n",
       "      <td>7.00</td>\n",
       "      <td>0.00</td>\n",
       "      <td>0</td>\n",
       "    </tr>\n",
       "    <tr>\n",
       "      <th>1</th>\n",
       "      <td>timetourist</td>\n",
       "      <td>I've had clinical depression for a little over...</td>\n",
       "      <td>36.00</td>\n",
       "      <td>23.00</td>\n",
       "      <td>0</td>\n",
       "    </tr>\n",
       "    <tr>\n",
       "      <th>2</th>\n",
       "      <td>insearchofpeople</td>\n",
       "      <td>Yesterday I quit my job of 5 years. This job g...</td>\n",
       "      <td>268.00</td>\n",
       "      <td>92.00</td>\n",
       "      <td>1</td>\n",
       "    </tr>\n",
       "    <tr>\n",
       "      <th>3</th>\n",
       "      <td>insearchofpeople</td>\n",
       "      <td>I got a new roommate. A guy who found me on FB...</td>\n",
       "      <td>268.00</td>\n",
       "      <td>92.00</td>\n",
       "      <td>1</td>\n",
       "    </tr>\n",
       "    <tr>\n",
       "      <th>4</th>\n",
       "      <td>lilyfrog</td>\n",
       "      <td>Ok. Had a really bad weekend this weekend gone...</td>\n",
       "      <td>164.00</td>\n",
       "      <td>271.00</td>\n",
       "      <td>1</td>\n",
       "    </tr>\n",
       "  </tbody>\n",
       "</table>\n",
       "</div>"
      ],
      "text/plain": [
       "           username                                               text  \\\n",
       "0             juno2  I've kept my depression and OCD hidden from my...   \n",
       "1       timetourist  I've had clinical depression for a little over...   \n",
       "2  insearchofpeople  Yesterday I quit my job of 5 years. This job g...   \n",
       "3  insearchofpeople  I got a new roommate. A guy who found me on FB...   \n",
       "4          lilyfrog  Ok. Had a really bad weekend this weekend gone...   \n",
       "\n",
       "  siteposts swedishfish  insuicide  \n",
       "0      7.00        0.00          0  \n",
       "1     36.00       23.00          0  \n",
       "2    268.00       92.00          1  \n",
       "3    268.00       92.00          1  \n",
       "4    164.00      271.00          1  "
      ]
     },
     "execution_count": 34,
     "metadata": {},
     "output_type": "execute_result"
    }
   ],
   "source": [
    "depression2.head()"
   ]
  },
  {
   "cell_type": "code",
   "execution_count": 24,
   "metadata": {},
   "outputs": [
    {
     "data": {
      "text/plain": [
       "username         0\n",
       "text             0\n",
       "siteposts      186\n",
       "swedishfish     34\n",
       "insuicide        0\n",
       "dtype: int64"
      ]
     },
     "execution_count": 24,
     "metadata": {},
     "output_type": "execute_result"
    }
   ],
   "source": [
    "depression2.isnull().sum()"
   ]
  },
  {
   "cell_type": "code",
   "execution_count": 25,
   "metadata": {
    "collapsed": true
   },
   "outputs": [],
   "source": [
    "depression2.dropna(how='any',inplace=True)"
   ]
  },
  {
   "cell_type": "code",
   "execution_count": 39,
   "metadata": {
    "collapsed": true
   },
   "outputs": [],
   "source": [
    "suicide2=pd.DataFrame(suicide)"
   ]
  },
  {
   "cell_type": "code",
   "execution_count": 40,
   "metadata": {
    "collapsed": true
   },
   "outputs": [],
   "source": [
    "suicide2.dropna(how='any',inplace=True)"
   ]
  },
  {
   "cell_type": "code",
   "execution_count": 47,
   "metadata": {
    "collapsed": true
   },
   "outputs": [],
   "source": [
    "depression2['swedishfish'] = pd.to_numeric(depression2.swedishfish, errors='coerce')\n",
    "depression2['siteposts'] = pd.to_numeric(depression2.siteposts, errors='coerce')\n",
    "depression2['swedishfish'] = pd.to_numeric(depression2.swedishfish, errors='coerce')\n",
    "depression2['siteposts'] = pd.to_numeric(depression2.siteposts, errors='coerce')"
   ]
  },
  {
   "cell_type": "code",
   "execution_count": 48,
   "metadata": {
    "collapsed": true
   },
   "outputs": [],
   "source": [
    "##merging each dataframe by username\n",
    "smerged=suicide2.groupby('username').agg({'text':'sum','swedishfish':'max','siteposts':'max'})"
   ]
  },
  {
   "cell_type": "code",
   "execution_count": 61,
   "metadata": {
    "collapsed": true
   },
   "outputs": [],
   "source": [
    "dmerged=depression2.groupby('username').agg({'text':'sum','swedishfish':'max','siteposts':'max','insuicide':'max'})"
   ]
  },
  {
   "cell_type": "code",
   "execution_count": 62,
   "metadata": {},
   "outputs": [
    {
     "data": {
      "text/html": [
       "<div>\n",
       "<style>\n",
       "    .dataframe thead tr:only-child th {\n",
       "        text-align: right;\n",
       "    }\n",
       "\n",
       "    .dataframe thead th {\n",
       "        text-align: left;\n",
       "    }\n",
       "\n",
       "    .dataframe tbody tr th {\n",
       "        vertical-align: top;\n",
       "    }\n",
       "</style>\n",
       "<table border=\"1\" class=\"dataframe\">\n",
       "  <thead>\n",
       "    <tr style=\"text-align: right;\">\n",
       "      <th></th>\n",
       "      <th>text</th>\n",
       "      <th>swedishfish</th>\n",
       "      <th>insuicide</th>\n",
       "      <th>siteposts</th>\n",
       "    </tr>\n",
       "    <tr>\n",
       "      <th>username</th>\n",
       "      <th></th>\n",
       "      <th></th>\n",
       "      <th></th>\n",
       "      <th></th>\n",
       "    </tr>\n",
       "  </thead>\n",
       "  <tbody>\n",
       "    <tr>\n",
       "      <th>-smartie-</th>\n",
       "      <td>Hello. Just Wanting To Help People With Cuttin...</td>\n",
       "      <td>0.0</td>\n",
       "      <td>0</td>\n",
       "      <td>13.0</td>\n",
       "    </tr>\n",
       "    <tr>\n",
       "      <th>007dano</th>\n",
       "      <td>Well here I am trying to get through the daily...</td>\n",
       "      <td>0.0</td>\n",
       "      <td>0</td>\n",
       "      <td>22.0</td>\n",
       "    </tr>\n",
       "    <tr>\n",
       "      <th>1000lifetimes</th>\n",
       "      <td>Posting on a forum isn't going to do anything ...</td>\n",
       "      <td>75.0</td>\n",
       "      <td>0</td>\n",
       "      <td>128.0</td>\n",
       "    </tr>\n",
       "    <tr>\n",
       "      <th>1026107</th>\n",
       "      <td>Hello Everyone, I'm new to this site and I jus...</td>\n",
       "      <td>0.0</td>\n",
       "      <td>0</td>\n",
       "      <td>1.0</td>\n",
       "    </tr>\n",
       "    <tr>\n",
       "      <th>1111</th>\n",
       "      <td>yea im 19 for the last 3 or so years i havent ...</td>\n",
       "      <td>0.0</td>\n",
       "      <td>0</td>\n",
       "      <td>1.0</td>\n",
       "    </tr>\n",
       "  </tbody>\n",
       "</table>\n",
       "</div>"
      ],
      "text/plain": [
       "                                                            text  swedishfish  \\\n",
       "username                                                                        \n",
       "-smartie-      Hello. Just Wanting To Help People With Cuttin...          0.0   \n",
       "007dano        Well here I am trying to get through the daily...          0.0   \n",
       "1000lifetimes  Posting on a forum isn't going to do anything ...         75.0   \n",
       "1026107        Hello Everyone, I'm new to this site and I jus...          0.0   \n",
       "1111           yea im 19 for the last 3 or so years i havent ...          0.0   \n",
       "\n",
       "               insuicide  siteposts  \n",
       "username                             \n",
       "-smartie-              0       13.0  \n",
       "007dano                0       22.0  \n",
       "1000lifetimes          0      128.0  \n",
       "1026107                0        1.0  \n",
       "1111                   0        1.0  "
      ]
     },
     "execution_count": 62,
     "metadata": {},
     "output_type": "execute_result"
    }
   ],
   "source": [
    "dmerged.head()"
   ]
  },
  {
   "cell_type": "code",
   "execution_count": 63,
   "metadata": {},
   "outputs": [
    {
     "data": {
      "text/html": [
       "<div>\n",
       "<style>\n",
       "    .dataframe thead tr:only-child th {\n",
       "        text-align: right;\n",
       "    }\n",
       "\n",
       "    .dataframe thead th {\n",
       "        text-align: left;\n",
       "    }\n",
       "\n",
       "    .dataframe tbody tr th {\n",
       "        vertical-align: top;\n",
       "    }\n",
       "</style>\n",
       "<table border=\"1\" class=\"dataframe\">\n",
       "  <thead>\n",
       "    <tr style=\"text-align: right;\">\n",
       "      <th></th>\n",
       "      <th>siteposts</th>\n",
       "    </tr>\n",
       "  </thead>\n",
       "  <tbody>\n",
       "    <tr>\n",
       "      <th>count</th>\n",
       "      <td>3277.000000</td>\n",
       "    </tr>\n",
       "    <tr>\n",
       "      <th>mean</th>\n",
       "      <td>100.027769</td>\n",
       "    </tr>\n",
       "    <tr>\n",
       "      <th>std</th>\n",
       "      <td>382.572859</td>\n",
       "    </tr>\n",
       "    <tr>\n",
       "      <th>min</th>\n",
       "      <td>1.000000</td>\n",
       "    </tr>\n",
       "    <tr>\n",
       "      <th>25%</th>\n",
       "      <td>2.000000</td>\n",
       "    </tr>\n",
       "    <tr>\n",
       "      <th>50%</th>\n",
       "      <td>6.000000</td>\n",
       "    </tr>\n",
       "    <tr>\n",
       "      <th>75%</th>\n",
       "      <td>30.000000</td>\n",
       "    </tr>\n",
       "    <tr>\n",
       "      <th>max</th>\n",
       "      <td>4897.000000</td>\n",
       "    </tr>\n",
       "  </tbody>\n",
       "</table>\n",
       "</div>"
      ],
      "text/plain": [
       "         siteposts\n",
       "count  3277.000000\n",
       "mean    100.027769\n",
       "std     382.572859\n",
       "min       1.000000\n",
       "25%       2.000000\n",
       "50%       6.000000\n",
       "75%      30.000000\n",
       "max    4897.000000"
      ]
     },
     "execution_count": 63,
     "metadata": {},
     "output_type": "execute_result"
    }
   ],
   "source": [
    "smerged[smerged['siteposts']<5000].describe()"
   ]
  },
  {
   "cell_type": "code",
   "execution_count": 64,
   "metadata": {},
   "outputs": [
    {
     "data": {
      "text/html": [
       "<div>\n",
       "<style>\n",
       "    .dataframe thead tr:only-child th {\n",
       "        text-align: right;\n",
       "    }\n",
       "\n",
       "    .dataframe thead th {\n",
       "        text-align: left;\n",
       "    }\n",
       "\n",
       "    .dataframe tbody tr th {\n",
       "        vertical-align: top;\n",
       "    }\n",
       "</style>\n",
       "<table border=\"1\" class=\"dataframe\">\n",
       "  <thead>\n",
       "    <tr style=\"text-align: right;\">\n",
       "      <th></th>\n",
       "      <th>swedishfish</th>\n",
       "      <th>insuicide</th>\n",
       "      <th>siteposts</th>\n",
       "    </tr>\n",
       "  </thead>\n",
       "  <tbody>\n",
       "    <tr>\n",
       "      <th>count</th>\n",
       "      <td>6688.000000</td>\n",
       "      <td>6689.000000</td>\n",
       "      <td>6689.000000</td>\n",
       "    </tr>\n",
       "    <tr>\n",
       "      <th>mean</th>\n",
       "      <td>18.282895</td>\n",
       "      <td>0.156974</td>\n",
       "      <td>62.377784</td>\n",
       "    </tr>\n",
       "    <tr>\n",
       "      <th>std</th>\n",
       "      <td>252.888320</td>\n",
       "      <td>0.363804</td>\n",
       "      <td>294.144063</td>\n",
       "    </tr>\n",
       "    <tr>\n",
       "      <th>min</th>\n",
       "      <td>0.000000</td>\n",
       "      <td>0.000000</td>\n",
       "      <td>0.000000</td>\n",
       "    </tr>\n",
       "    <tr>\n",
       "      <th>25%</th>\n",
       "      <td>0.000000</td>\n",
       "      <td>0.000000</td>\n",
       "      <td>2.000000</td>\n",
       "    </tr>\n",
       "    <tr>\n",
       "      <th>50%</th>\n",
       "      <td>0.000000</td>\n",
       "      <td>0.000000</td>\n",
       "      <td>4.000000</td>\n",
       "    </tr>\n",
       "    <tr>\n",
       "      <th>75%</th>\n",
       "      <td>0.000000</td>\n",
       "      <td>0.000000</td>\n",
       "      <td>17.000000</td>\n",
       "    </tr>\n",
       "    <tr>\n",
       "      <th>max</th>\n",
       "      <td>13337.000000</td>\n",
       "      <td>1.000000</td>\n",
       "      <td>4897.000000</td>\n",
       "    </tr>\n",
       "  </tbody>\n",
       "</table>\n",
       "</div>"
      ],
      "text/plain": [
       "        swedishfish    insuicide    siteposts\n",
       "count   6688.000000  6689.000000  6689.000000\n",
       "mean      18.282895     0.156974    62.377784\n",
       "std      252.888320     0.363804   294.144063\n",
       "min        0.000000     0.000000     0.000000\n",
       "25%        0.000000     0.000000     2.000000\n",
       "50%        0.000000     0.000000     4.000000\n",
       "75%        0.000000     0.000000    17.000000\n",
       "max    13337.000000     1.000000  4897.000000"
      ]
     },
     "execution_count": 64,
     "metadata": {},
     "output_type": "execute_result"
    }
   ],
   "source": [
    "dmerged[dmerged['siteposts']<5000].describe()"
   ]
  },
  {
   "cell_type": "code",
   "execution_count": 65,
   "metadata": {},
   "outputs": [
    {
     "data": {
      "image/png": "[encoded data removed]",
      "text/plain": [
       "<matplotlib.figure.Figure at 0x1169be510>"
      ]
     },
     "metadata": {},
     "output_type": "display_data"
    }
   ],
   "source": [
    "##making charts to see if the number of posts and the number of swedishfish are similar across both users\n",
    "x=dmerged.insuicide\n",
    "y=dmerged.siteposts\n",
    "plt.scatter(x,y,alpha=.3)\n",
    "plt.xkcd\n",
    "plt.show()"
   ]
  },
  {
   "cell_type": "code",
   "execution_count": 66,
   "metadata": {},
   "outputs": [
    {
     "data": {
      "image/png": "[encoded data removed]",
      "text/plain": [
       "<matplotlib.figure.Figure at 0x117ffb810>"
      ]
     },
     "metadata": {},
     "output_type": "display_data"
    }
   ],
   "source": [
    "x=dmerged.insuicide\n",
    "y=dmerged.swedishfish\n",
    "plt.scatter(x,y,alpha=.3)\n",
    "plt.show()"
   ]
  },
  {
   "cell_type": "code",
   "execution_count": null,
   "metadata": {
    "collapsed": true
   },
   "outputs": [],
   "source": [
    "depression.to_csv(\"/Users/yonilevine/Desktop/Capstone/datasets/depressionnlp.csv\")"
   ]
  },
  {
   "cell_type": "markdown",
   "metadata": {
    "collapsed": true
   },
   "source": [
    "### Model Building"
   ]
  },
  {
   "cell_type": "code",
   "execution_count": 67,
   "metadata": {
    "collapsed": true
   },
   "outputs": [],
   "source": [
    "url=\"https://www.dropbox.com/s/mkpih20fy6zojq6/depressionnlp%20copy.csv?dl=1\"\n",
    "depression=pd.read_csv(url)"
   ]
  },
  {
   "cell_type": "code",
   "execution_count": 68,
   "metadata": {
    "collapsed": true
   },
   "outputs": [],
   "source": [
    "depression.drop('Unnamed: 0',axis=1,inplace=True)"
   ]
  },
  {
   "cell_type": "code",
   "execution_count": 69,
   "metadata": {
    "collapsed": true
   },
   "outputs": [],
   "source": [
    "##getting rid of any invalid characters that won't allow my count \n",
    "#vectorizer to run\n",
    "depression['text'] = depression[\"text\"].apply(lambda x:''.join([\"\" if ord(i) < 32 or ord(i) > 126 else i for i in x]))"
   ]
  },
  {
   "cell_type": "code",
   "execution_count": 75,
   "metadata": {
    "collapsed": true
   },
   "outputs": [],
   "source": [
    "def remove_punctuation(s):\n",
    "    s = ''.join([i for i in s if i not in frozenset(string.punctuation)])\n",
    "    return s"
   ]
  },
  {
   "cell_type": "code",
   "execution_count": 76,
   "metadata": {
    "collapsed": true
   },
   "outputs": [],
   "source": [
    "##using a function to remove punctuation\n",
    "depression['text'] = depression['text'].apply(remove_punctuation)"
   ]
  },
  {
   "cell_type": "code",
   "execution_count": 77,
   "metadata": {
    "collapsed": true
   },
   "outputs": [],
   "source": [
    "def remove_numbers(s):\n",
    "    s = ''.join([i for i in s if not i.isdigit()])\n",
    "    return s"
   ]
  },
  {
   "cell_type": "code",
   "execution_count": 78,
   "metadata": {
    "collapsed": true
   },
   "outputs": [],
   "source": [
    "##using a function to remove numbers\n",
    "depression['text'] = depression['text'].apply(remove_numbers)"
   ]
  },
  {
   "cell_type": "code",
   "execution_count": 79,
   "metadata": {
    "collapsed": true
   },
   "outputs": [],
   "source": [
    "def lemmatizer_df(df):\n",
    "    tokenizer = RegexpTokenizer(r'\\w+')\n",
    "    df['tokens'] = [tokenizer.tokenize(story) for story in df['text']] \n",
    "    lemmatizer = WordNetLemmatizer()\n",
    "    lemtext=[]\n",
    "    for i,item in enumerate(df.tokens):\n",
    "        x=[lemmatizer.lemmatize(word) for word in item]\n",
    "        lemtext.append(x)\n",
    "    df['lemtext']=lemtext\n",
    "    lemmatized=[]\n",
    "    for item in df.lemtext:\n",
    "        lemmatized.append(' '.join(map(str, item)))\n",
    "    df['text2']=lemmatized\n",
    "    return df\n"
   ]
  },
  {
   "cell_type": "code",
   "execution_count": 82,
   "metadata": {},
   "outputs": [
    {
     "data": {
      "text/html": [
       "<div>\n",
       "<style>\n",
       "    .dataframe thead tr:only-child th {\n",
       "        text-align: right;\n",
       "    }\n",
       "\n",
       "    .dataframe thead th {\n",
       "        text-align: left;\n",
       "    }\n",
       "\n",
       "    .dataframe tbody tr th {\n",
       "        vertical-align: top;\n",
       "    }\n",
       "</style>\n",
       "<table border=\"1\" class=\"dataframe\">\n",
       "  <thead>\n",
       "    <tr style=\"text-align: right;\">\n",
       "      <th></th>\n",
       "      <th>username</th>\n",
       "      <th>text</th>\n",
       "      <th>siteposts</th>\n",
       "      <th>swedishfish</th>\n",
       "      <th>insuicide</th>\n",
       "      <th>tokens</th>\n",
       "      <th>lemtext</th>\n",
       "      <th>text2</th>\n",
       "    </tr>\n",
       "  </thead>\n",
       "  <tbody>\n",
       "    <tr>\n",
       "      <th>0</th>\n",
       "      <td>juno2</td>\n",
       "      <td>Ive kept my depression and OCD hidden from my ...</td>\n",
       "      <td>7</td>\n",
       "      <td>0</td>\n",
       "      <td>0</td>\n",
       "      <td>[Ive, kept, my, depression, and, OCD, hidden, ...</td>\n",
       "      <td>[Ive, kept, my, depression, and, OCD, hidden, ...</td>\n",
       "      <td>Ive kept my depression and OCD hidden from my ...</td>\n",
       "    </tr>\n",
       "    <tr>\n",
       "      <th>1</th>\n",
       "      <td>timetourist</td>\n",
       "      <td>Ive had clinical depression for a little over ...</td>\n",
       "      <td>36</td>\n",
       "      <td>23</td>\n",
       "      <td>0</td>\n",
       "      <td>[Ive, had, clinical, depression, for, a, littl...</td>\n",
       "      <td>[Ive, had, clinical, depression, for, a, littl...</td>\n",
       "      <td>Ive had clinical depression for a little over ...</td>\n",
       "    </tr>\n",
       "    <tr>\n",
       "      <th>2</th>\n",
       "      <td>insearchofpeople</td>\n",
       "      <td>Yesterday I quit my job of  years This job gav...</td>\n",
       "      <td>268</td>\n",
       "      <td>92</td>\n",
       "      <td>1</td>\n",
       "      <td>[Yesterday, I, quit, my, job, of, years, This,...</td>\n",
       "      <td>[Yesterday, I, quit, my, job, of, year, This, ...</td>\n",
       "      <td>Yesterday I quit my job of year This job gave ...</td>\n",
       "    </tr>\n",
       "    <tr>\n",
       "      <th>3</th>\n",
       "      <td>insearchofpeople</td>\n",
       "      <td>I got a new roommate A guy who found me on FB ...</td>\n",
       "      <td>268</td>\n",
       "      <td>92</td>\n",
       "      <td>1</td>\n",
       "      <td>[I, got, a, new, roommate, A, guy, who, found,...</td>\n",
       "      <td>[I, got, a, new, roommate, A, guy, who, found,...</td>\n",
       "      <td>I got a new roommate A guy who found me on FB ...</td>\n",
       "    </tr>\n",
       "    <tr>\n",
       "      <th>4</th>\n",
       "      <td>lilyfrog</td>\n",
       "      <td>Ok Had a really bad weekend this weekend gone ...</td>\n",
       "      <td>164</td>\n",
       "      <td>271</td>\n",
       "      <td>1</td>\n",
       "      <td>[Ok, Had, a, really, bad, weekend, this, weeke...</td>\n",
       "      <td>[Ok, Had, a, really, bad, weekend, this, weeke...</td>\n",
       "      <td>Ok Had a really bad weekend this weekend gone ...</td>\n",
       "    </tr>\n",
       "    <tr>\n",
       "      <th>5</th>\n",
       "      <td>callherblackmariah</td>\n",
       "      <td>Everyday I see people going about their lives ...</td>\n",
       "      <td>1</td>\n",
       "      <td>0</td>\n",
       "      <td>0</td>\n",
       "      <td>[Everyday, I, see, people, going, about, their...</td>\n",
       "      <td>[Everyday, I, see, people, going, about, their...</td>\n",
       "      <td>Everyday I see people going about their life L...</td>\n",
       "    </tr>\n",
       "    <tr>\n",
       "      <th>6</th>\n",
       "      <td>sensualgirl</td>\n",
       "      <td>All the suffering I went through and now Im fi...</td>\n",
       "      <td>5349</td>\n",
       "      <td>681</td>\n",
       "      <td>0</td>\n",
       "      <td>[All, the, suffering, I, went, through, and, n...</td>\n",
       "      <td>[All, the, suffering, I, went, through, and, n...</td>\n",
       "      <td>All the suffering I went through and now Im fi...</td>\n",
       "    </tr>\n",
       "    <tr>\n",
       "      <th>7</th>\n",
       "      <td>lavendernothing</td>\n",
       "      <td>Im a  year olds and Ive been drawing since I w...</td>\n",
       "      <td>2</td>\n",
       "      <td>0</td>\n",
       "      <td>1</td>\n",
       "      <td>[Im, a, year, olds, and, Ive, been, drawing, s...</td>\n",
       "      <td>[Im, a, year, old, and, Ive, been, drawing, si...</td>\n",
       "      <td>Im a year old and Ive been drawing since I wa ...</td>\n",
       "    </tr>\n",
       "    <tr>\n",
       "      <th>8</th>\n",
       "      <td>insearchofpeople</td>\n",
       "      <td>So I wasnt sure about my new roommate We seem ...</td>\n",
       "      <td>268</td>\n",
       "      <td>92</td>\n",
       "      <td>1</td>\n",
       "      <td>[So, I, wasnt, sure, about, my, new, roommate,...</td>\n",
       "      <td>[So, I, wasnt, sure, about, my, new, roommate,...</td>\n",
       "      <td>So I wasnt sure about my new roommate We seem ...</td>\n",
       "    </tr>\n",
       "    <tr>\n",
       "      <th>9</th>\n",
       "      <td>always_lonely</td>\n",
       "      <td>Hi I am a good and giving person normally and ...</td>\n",
       "      <td>2</td>\n",
       "      <td>0</td>\n",
       "      <td>0</td>\n",
       "      <td>[Hi, I, am, a, good, and, giving, person, norm...</td>\n",
       "      <td>[Hi, I, am, a, good, and, giving, person, norm...</td>\n",
       "      <td>Hi I am a good and giving person normally and ...</td>\n",
       "    </tr>\n",
       "    <tr>\n",
       "      <th>10</th>\n",
       "      <td>endlesstear</td>\n",
       "      <td>So I want to talk about my life to begin with ...</td>\n",
       "      <td>61</td>\n",
       "      <td>24</td>\n",
       "      <td>1</td>\n",
       "      <td>[So, I, want, to, talk, about, my, life, to, b...</td>\n",
       "      <td>[So, I, want, to, talk, about, my, life, to, b...</td>\n",
       "      <td>So I want to talk about my life to begin with ...</td>\n",
       "    </tr>\n",
       "    <tr>\n",
       "      <th>11</th>\n",
       "      <td>insearchofpeople</td>\n",
       "      <td>I was trying hard to build a new life for myse...</td>\n",
       "      <td>268</td>\n",
       "      <td>92</td>\n",
       "      <td>1</td>\n",
       "      <td>[I, was, trying, hard, to, build, a, new, life...</td>\n",
       "      <td>[I, wa, trying, hard, to, build, a, new, life,...</td>\n",
       "      <td>I wa trying hard to build a new life for mysel...</td>\n",
       "    </tr>\n",
       "    <tr>\n",
       "      <th>12</th>\n",
       "      <td>redq</td>\n",
       "      <td>Ive done so much harm in my life Ive slept wit...</td>\n",
       "      <td>2</td>\n",
       "      <td>0</td>\n",
       "      <td>0</td>\n",
       "      <td>[Ive, done, so, much, harm, in, my, life, Ive,...</td>\n",
       "      <td>[Ive, done, so, much, harm, in, my, life, Ive,...</td>\n",
       "      <td>Ive done so much harm in my life Ive slept wit...</td>\n",
       "    </tr>\n",
       "    <tr>\n",
       "      <th>13</th>\n",
       "      <td>omniverse</td>\n",
       "      <td>I am going to express whats on my mind in rega...</td>\n",
       "      <td>4</td>\n",
       "      <td>0</td>\n",
       "      <td>0</td>\n",
       "      <td>[I, am, going, to, express, whats, on, my, min...</td>\n",
       "      <td>[I, am, going, to, express, whats, on, my, min...</td>\n",
       "      <td>I am going to express whats on my mind in rega...</td>\n",
       "    </tr>\n",
       "    <tr>\n",
       "      <th>14</th>\n",
       "      <td>omniverse</td>\n",
       "      <td>I am going to express whats on my mind in rega...</td>\n",
       "      <td>4</td>\n",
       "      <td>0</td>\n",
       "      <td>0</td>\n",
       "      <td>[I, am, going, to, express, whats, on, my, min...</td>\n",
       "      <td>[I, am, going, to, express, whats, on, my, min...</td>\n",
       "      <td>I am going to express whats on my mind in rega...</td>\n",
       "    </tr>\n",
       "    <tr>\n",
       "      <th>15</th>\n",
       "      <td>oldlady</td>\n",
       "      <td>I belong to a forum where caregivers of loved ...</td>\n",
       "      <td>1631</td>\n",
       "      <td>125</td>\n",
       "      <td>0</td>\n",
       "      <td>[I, belong, to, a, forum, where, caregivers, o...</td>\n",
       "      <td>[I, belong, to, a, forum, where, caregiver, of...</td>\n",
       "      <td>I belong to a forum where caregiver of loved o...</td>\n",
       "    </tr>\n",
       "    <tr>\n",
       "      <th>16</th>\n",
       "      <td>blkdog</td>\n",
       "      <td>My parents are coming to visit was the news I ...</td>\n",
       "      <td>2</td>\n",
       "      <td>0</td>\n",
       "      <td>0</td>\n",
       "      <td>[My, parents, are, coming, to, visit, was, the...</td>\n",
       "      <td>[My, parent, are, coming, to, visit, wa, the, ...</td>\n",
       "      <td>My parent are coming to visit wa the news I he...</td>\n",
       "    </tr>\n",
       "    <tr>\n",
       "      <th>17</th>\n",
       "      <td>inth33nd</td>\n",
       "      <td>I used to be a really smart confident hard wor...</td>\n",
       "      <td>1</td>\n",
       "      <td>0</td>\n",
       "      <td>0</td>\n",
       "      <td>[I, used, to, be, a, really, smart, confident,...</td>\n",
       "      <td>[I, used, to, be, a, really, smart, confident,...</td>\n",
       "      <td>I used to be a really smart confident hard wor...</td>\n",
       "    </tr>\n",
       "    <tr>\n",
       "      <th>18</th>\n",
       "      <td>wisteria</td>\n",
       "      <td>I just started online therapy to deal with som...</td>\n",
       "      <td>4</td>\n",
       "      <td>0</td>\n",
       "      <td>0</td>\n",
       "      <td>[I, just, started, online, therapy, to, deal, ...</td>\n",
       "      <td>[I, just, started, online, therapy, to, deal, ...</td>\n",
       "      <td>I just started online therapy to deal with som...</td>\n",
       "    </tr>\n",
       "    <tr>\n",
       "      <th>19</th>\n",
       "      <td>hiddensmiles</td>\n",
       "      <td>The late night demons They plague me They are ...</td>\n",
       "      <td>1</td>\n",
       "      <td>0</td>\n",
       "      <td>0</td>\n",
       "      <td>[The, late, night, demons, They, plague, me, T...</td>\n",
       "      <td>[The, late, night, demon, They, plague, me, Th...</td>\n",
       "      <td>The late night demon They plague me They are s...</td>\n",
       "    </tr>\n",
       "    <tr>\n",
       "      <th>20</th>\n",
       "      <td>eric_lost</td>\n",
       "      <td>I remembered reading other peoples posts from ...</td>\n",
       "      <td>2</td>\n",
       "      <td>0</td>\n",
       "      <td>0</td>\n",
       "      <td>[I, remembered, reading, other, peoples, posts...</td>\n",
       "      <td>[I, remembered, reading, other, people, post, ...</td>\n",
       "      <td>I remembered reading other people post from he...</td>\n",
       "    </tr>\n",
       "    <tr>\n",
       "      <th>21</th>\n",
       "      <td>lost45</td>\n",
       "      <td>Its been a long time since i last logged in I ...</td>\n",
       "      <td>121</td>\n",
       "      <td>6</td>\n",
       "      <td>1</td>\n",
       "      <td>[Its, been, a, long, time, since, i, last, log...</td>\n",
       "      <td>[Its, been, a, long, time, since, i, last, log...</td>\n",
       "      <td>Its been a long time since i last logged in I ...</td>\n",
       "    </tr>\n",
       "    <tr>\n",
       "      <th>22</th>\n",
       "      <td>graymoon</td>\n",
       "      <td>I am completely alone I want to scream I want ...</td>\n",
       "      <td>1</td>\n",
       "      <td>0</td>\n",
       "      <td>0</td>\n",
       "      <td>[I, am, completely, alone, I, want, to, scream...</td>\n",
       "      <td>[I, am, completely, alone, I, want, to, scream...</td>\n",
       "      <td>I am completely alone I want to scream I want ...</td>\n",
       "    </tr>\n",
       "    <tr>\n",
       "      <th>23</th>\n",
       "      <td>lilyfrog</td>\n",
       "      <td>i have a lot going on in life a lot I should b...</td>\n",
       "      <td>164</td>\n",
       "      <td>271</td>\n",
       "      <td>1</td>\n",
       "      <td>[i, have, a, lot, going, on, in, life, a, lot,...</td>\n",
       "      <td>[i, have, a, lot, going, on, in, life, a, lot,...</td>\n",
       "      <td>i have a lot going on in life a lot I should b...</td>\n",
       "    </tr>\n",
       "    <tr>\n",
       "      <th>24</th>\n",
       "      <td>wastinglight98</td>\n",
       "      <td>I started noticing this a few months ago and i...</td>\n",
       "      <td>20</td>\n",
       "      <td>5</td>\n",
       "      <td>0</td>\n",
       "      <td>[I, started, noticing, this, a, few, months, a...</td>\n",
       "      <td>[I, started, noticing, this, a, few, month, ag...</td>\n",
       "      <td>I started noticing this a few month ago and it...</td>\n",
       "    </tr>\n",
       "    <tr>\n",
       "      <th>25</th>\n",
       "      <td>angie</td>\n",
       "      <td>Hi guys Just feeling pretty down today No moti...</td>\n",
       "      <td>574</td>\n",
       "      <td>247</td>\n",
       "      <td>1</td>\n",
       "      <td>[Hi, guys, Just, feeling, pretty, down, today,...</td>\n",
       "      <td>[Hi, guy, Just, feeling, pretty, down, today, ...</td>\n",
       "      <td>Hi guy Just feeling pretty down today No motiv...</td>\n",
       "    </tr>\n",
       "    <tr>\n",
       "      <th>26</th>\n",
       "      <td>bc10</td>\n",
       "      <td>Ive documented my depression and relationship ...</td>\n",
       "      <td>1</td>\n",
       "      <td>0</td>\n",
       "      <td>0</td>\n",
       "      <td>[Ive, documented, my, depression, and, relatio...</td>\n",
       "      <td>[Ive, documented, my, depression, and, relatio...</td>\n",
       "      <td>Ive documented my depression and relationship ...</td>\n",
       "    </tr>\n",
       "    <tr>\n",
       "      <th>27</th>\n",
       "      <td>clementiny</td>\n",
       "      <td>Im  years old and my parents control the sht o...</td>\n",
       "      <td>4</td>\n",
       "      <td>0</td>\n",
       "      <td>0</td>\n",
       "      <td>[Im, years, old, and, my, parents, control, th...</td>\n",
       "      <td>[Im, year, old, and, my, parent, control, the,...</td>\n",
       "      <td>Im year old and my parent control the sht out ...</td>\n",
       "    </tr>\n",
       "    <tr>\n",
       "      <th>28</th>\n",
       "      <td>newwife</td>\n",
       "      <td>I need help And I dont know if it needs to be ...</td>\n",
       "      <td>1</td>\n",
       "      <td>0</td>\n",
       "      <td>0</td>\n",
       "      <td>[I, need, help, And, I, dont, know, if, it, ne...</td>\n",
       "      <td>[I, need, help, And, I, dont, know, if, it, ne...</td>\n",
       "      <td>I need help And I dont know if it need to be p...</td>\n",
       "    </tr>\n",
       "    <tr>\n",
       "      <th>29</th>\n",
       "      <td>black_sheep</td>\n",
       "      <td>Home used to be the one place where I could re...</td>\n",
       "      <td>696</td>\n",
       "      <td>402</td>\n",
       "      <td>1</td>\n",
       "      <td>[Home, used, to, be, the, one, place, where, I...</td>\n",
       "      <td>[Home, used, to, be, the, one, place, where, I...</td>\n",
       "      <td>Home used to be the one place where I could re...</td>\n",
       "    </tr>\n",
       "    <tr>\n",
       "      <th>...</th>\n",
       "      <td>...</td>\n",
       "      <td>...</td>\n",
       "      <td>...</td>\n",
       "      <td>...</td>\n",
       "      <td>...</td>\n",
       "      <td>...</td>\n",
       "      <td>...</td>\n",
       "      <td>...</td>\n",
       "    </tr>\n",
       "    <tr>\n",
       "      <th>17367</th>\n",
       "      <td>shadowaka086</td>\n",
       "      <td>Ive realized now that its not okay to go both ...</td>\n",
       "      <td>4335</td>\n",
       "      <td>353</td>\n",
       "      <td>1</td>\n",
       "      <td>[Ive, realized, now, that, its, not, okay, to,...</td>\n",
       "      <td>[Ive, realized, now, that, it, not, okay, to, ...</td>\n",
       "      <td>Ive realized now that it not okay to go both w...</td>\n",
       "    </tr>\n",
       "    <tr>\n",
       "      <th>17368</th>\n",
       "      <td>jstreba1</td>\n",
       "      <td>havent been here in a couple of days and let m...</td>\n",
       "      <td>1243</td>\n",
       "      <td>0</td>\n",
       "      <td>1</td>\n",
       "      <td>[havent, been, here, in, a, couple, of, days, ...</td>\n",
       "      <td>[havent, been, here, in, a, couple, of, day, a...</td>\n",
       "      <td>havent been here in a couple of day and let me...</td>\n",
       "    </tr>\n",
       "    <tr>\n",
       "      <th>17369</th>\n",
       "      <td>panga</td>\n",
       "      <td>hi everyone i havent been here for ages and i ...</td>\n",
       "      <td>1306</td>\n",
       "      <td>0</td>\n",
       "      <td>1</td>\n",
       "      <td>[hi, everyone, i, havent, been, here, for, age...</td>\n",
       "      <td>[hi, everyone, i, havent, been, here, for, age...</td>\n",
       "      <td>hi everyone i havent been here for age and i d...</td>\n",
       "    </tr>\n",
       "    <tr>\n",
       "      <th>17370</th>\n",
       "      <td>punkchiclet88</td>\n",
       "      <td>My school just had a lock down drill thats whe...</td>\n",
       "      <td>6257</td>\n",
       "      <td>116</td>\n",
       "      <td>1</td>\n",
       "      <td>[My, school, just, had, a, lock, down, drill, ...</td>\n",
       "      <td>[My, school, just, had, a, lock, down, drill, ...</td>\n",
       "      <td>My school just had a lock down drill thats whe...</td>\n",
       "    </tr>\n",
       "    <tr>\n",
       "      <th>17371</th>\n",
       "      <td>tilly</td>\n",
       "      <td>Today has kind of been worse my laptop is mess...</td>\n",
       "      <td>177</td>\n",
       "      <td>0</td>\n",
       "      <td>1</td>\n",
       "      <td>[Today, has, kind, of, been, worse, my, laptop...</td>\n",
       "      <td>[Today, ha, kind, of, been, worse, my, laptop,...</td>\n",
       "      <td>Today ha kind of been worse my laptop is messe...</td>\n",
       "    </tr>\n",
       "    <tr>\n",
       "      <th>17372</th>\n",
       "      <td>beautifullyscarred</td>\n",
       "      <td>so lately ive been feeling like shitive been f...</td>\n",
       "      <td>987</td>\n",
       "      <td>0</td>\n",
       "      <td>1</td>\n",
       "      <td>[so, lately, ive, been, feeling, like, shitive...</td>\n",
       "      <td>[so, lately, ive, been, feeling, like, shitive...</td>\n",
       "      <td>so lately ive been feeling like shitive been f...</td>\n",
       "    </tr>\n",
       "    <tr>\n",
       "      <th>17373</th>\n",
       "      <td>tilly</td>\n",
       "      <td>Today i was having a lovely time with my god m...</td>\n",
       "      <td>177</td>\n",
       "      <td>0</td>\n",
       "      <td>1</td>\n",
       "      <td>[Today, i, was, having, a, lovely, time, with,...</td>\n",
       "      <td>[Today, i, wa, having, a, lovely, time, with, ...</td>\n",
       "      <td>Today i wa having a lovely time with my god mo...</td>\n",
       "    </tr>\n",
       "    <tr>\n",
       "      <th>17374</th>\n",
       "      <td>doomfunk12</td>\n",
       "      <td>When I joined TTL I mentioned that I was going...</td>\n",
       "      <td>246</td>\n",
       "      <td>0</td>\n",
       "      <td>1</td>\n",
       "      <td>[When, I, joined, TTL, I, mentioned, that, I, ...</td>\n",
       "      <td>[When, I, joined, TTL, I, mentioned, that, I, ...</td>\n",
       "      <td>When I joined TTL I mentioned that I wa going ...</td>\n",
       "    </tr>\n",
       "    <tr>\n",
       "      <th>17375</th>\n",
       "      <td>distorted_innocence</td>\n",
       "      <td>my mom is buying me a ticket to go live with h...</td>\n",
       "      <td>2008</td>\n",
       "      <td>1</td>\n",
       "      <td>1</td>\n",
       "      <td>[my, mom, is, buying, me, a, ticket, to, go, l...</td>\n",
       "      <td>[my, mom, is, buying, me, a, ticket, to, go, l...</td>\n",
       "      <td>my mom is buying me a ticket to go live with h...</td>\n",
       "    </tr>\n",
       "    <tr>\n",
       "      <th>17376</th>\n",
       "      <td>ghost</td>\n",
       "      <td>that im just like every one else down feeling ...</td>\n",
       "      <td>172</td>\n",
       "      <td>0</td>\n",
       "      <td>1</td>\n",
       "      <td>[that, im, just, like, every, one, else, down,...</td>\n",
       "      <td>[that, im, just, like, every, one, else, down,...</td>\n",
       "      <td>that im just like every one else down feeling ...</td>\n",
       "    </tr>\n",
       "    <tr>\n",
       "      <th>17377</th>\n",
       "      <td>ghost</td>\n",
       "      <td>i failed i lost e dosnt like me as far as i kn...</td>\n",
       "      <td>172</td>\n",
       "      <td>0</td>\n",
       "      <td>1</td>\n",
       "      <td>[i, failed, i, lost, e, dosnt, like, me, as, f...</td>\n",
       "      <td>[i, failed, i, lost, e, dosnt, like, me, a, fa...</td>\n",
       "      <td>i failed i lost e dosnt like me a far a i know...</td>\n",
       "    </tr>\n",
       "    <tr>\n",
       "      <th>17378</th>\n",
       "      <td>tilly</td>\n",
       "      <td>Well i went to the doctors today and told him ...</td>\n",
       "      <td>177</td>\n",
       "      <td>0</td>\n",
       "      <td>1</td>\n",
       "      <td>[Well, i, went, to, the, doctors, today, and, ...</td>\n",
       "      <td>[Well, i, went, to, the, doctor, today, and, t...</td>\n",
       "      <td>Well i went to the doctor today and told him h...</td>\n",
       "    </tr>\n",
       "    <tr>\n",
       "      <th>17379</th>\n",
       "      <td>disposable_angel</td>\n",
       "      <td>ok so my dads mom is dying shes in a hospice i...</td>\n",
       "      <td>3339</td>\n",
       "      <td>0</td>\n",
       "      <td>1</td>\n",
       "      <td>[ok, so, my, dads, mom, is, dying, shes, in, a...</td>\n",
       "      <td>[ok, so, my, dad, mom, is, dying, shes, in, a,...</td>\n",
       "      <td>ok so my dad mom is dying shes in a hospice in...</td>\n",
       "    </tr>\n",
       "    <tr>\n",
       "      <th>17380</th>\n",
       "      <td>carpediem</td>\n",
       "      <td>ok so over the last  months i have completely ...</td>\n",
       "      <td>37</td>\n",
       "      <td>0</td>\n",
       "      <td>0</td>\n",
       "      <td>[ok, so, over, the, last, months, i, have, com...</td>\n",
       "      <td>[ok, so, over, the, last, month, i, have, comp...</td>\n",
       "      <td>ok so over the last month i have completely al...</td>\n",
       "    </tr>\n",
       "    <tr>\n",
       "      <th>17381</th>\n",
       "      <td>beautifullyscarred</td>\n",
       "      <td>my goal in life is to move on and forget you T...</td>\n",
       "      <td>987</td>\n",
       "      <td>0</td>\n",
       "      <td>1</td>\n",
       "      <td>[my, goal, in, life, is, to, move, on, and, fo...</td>\n",
       "      <td>[my, goal, in, life, is, to, move, on, and, fo...</td>\n",
       "      <td>my goal in life is to move on and forget you T...</td>\n",
       "    </tr>\n",
       "    <tr>\n",
       "      <th>17382</th>\n",
       "      <td>unfortunateself</td>\n",
       "      <td>I hate feeling like this Sitting here at work ...</td>\n",
       "      <td>11</td>\n",
       "      <td>0</td>\n",
       "      <td>0</td>\n",
       "      <td>[I, hate, feeling, like, this, Sitting, here, ...</td>\n",
       "      <td>[I, hate, feeling, like, this, Sitting, here, ...</td>\n",
       "      <td>I hate feeling like this Sitting here at work ...</td>\n",
       "    </tr>\n",
       "    <tr>\n",
       "      <th>17383</th>\n",
       "      <td>doomfunk12</td>\n",
       "      <td>This week hosts the anniversary of my Mom pass...</td>\n",
       "      <td>246</td>\n",
       "      <td>0</td>\n",
       "      <td>1</td>\n",
       "      <td>[This, week, hosts, the, anniversary, of, my, ...</td>\n",
       "      <td>[This, week, host, the, anniversary, of, my, M...</td>\n",
       "      <td>This week host the anniversary of my Mom passi...</td>\n",
       "    </tr>\n",
       "    <tr>\n",
       "      <th>17384</th>\n",
       "      <td>punkchiclet88</td>\n",
       "      <td>Is today screw Punk day Did everyone get memos...</td>\n",
       "      <td>6257</td>\n",
       "      <td>116</td>\n",
       "      <td>1</td>\n",
       "      <td>[Is, today, screw, Punk, day, Did, everyone, g...</td>\n",
       "      <td>[Is, today, screw, Punk, day, Did, everyone, g...</td>\n",
       "      <td>Is today screw Punk day Did everyone get memo ...</td>\n",
       "    </tr>\n",
       "    <tr>\n",
       "      <th>17385</th>\n",
       "      <td>zetsumei</td>\n",
       "      <td>I have had it I have snapped life is shit so l...</td>\n",
       "      <td>6111</td>\n",
       "      <td>1</td>\n",
       "      <td>1</td>\n",
       "      <td>[I, have, had, it, I, have, snapped, life, is,...</td>\n",
       "      <td>[I, have, had, it, I, have, snapped, life, is,...</td>\n",
       "      <td>I have had it I have snapped life is shit so l...</td>\n",
       "    </tr>\n",
       "    <tr>\n",
       "      <th>17386</th>\n",
       "      <td>silent_cry</td>\n",
       "      <td>im not feeling so good today  really cant b bo...</td>\n",
       "      <td>NaN</td>\n",
       "      <td>3164</td>\n",
       "      <td>1</td>\n",
       "      <td>[im, not, feeling, so, good, today, really, ca...</td>\n",
       "      <td>[im, not, feeling, so, good, today, really, ca...</td>\n",
       "      <td>im not feeling so good today really cant b bot...</td>\n",
       "    </tr>\n",
       "    <tr>\n",
       "      <th>17387</th>\n",
       "      <td>tilly</td>\n",
       "      <td>I know i have a lot of issues and that i am ge...</td>\n",
       "      <td>177</td>\n",
       "      <td>0</td>\n",
       "      <td>1</td>\n",
       "      <td>[I, know, i, have, a, lot, of, issues, and, th...</td>\n",
       "      <td>[I, know, i, have, a, lot, of, issue, and, tha...</td>\n",
       "      <td>I know i have a lot of issue and that i am get...</td>\n",
       "    </tr>\n",
       "    <tr>\n",
       "      <th>17388</th>\n",
       "      <td>dreamer</td>\n",
       "      <td>im sad i dont know why im letting it happen it...</td>\n",
       "      <td>4075</td>\n",
       "      <td>0</td>\n",
       "      <td>1</td>\n",
       "      <td>[im, sad, i, dont, know, why, im, letting, it,...</td>\n",
       "      <td>[im, sad, i, dont, know, why, im, letting, it,...</td>\n",
       "      <td>im sad i dont know why im letting it happen it...</td>\n",
       "    </tr>\n",
       "    <tr>\n",
       "      <th>17389</th>\n",
       "      <td>mousey</td>\n",
       "      <td>I set rules for myself and I was doing very we...</td>\n",
       "      <td>10399</td>\n",
       "      <td>687</td>\n",
       "      <td>1</td>\n",
       "      <td>[I, set, rules, for, myself, and, I, was, doin...</td>\n",
       "      <td>[I, set, rule, for, myself, and, I, wa, doing,...</td>\n",
       "      <td>I set rule for myself and I wa doing very well...</td>\n",
       "    </tr>\n",
       "    <tr>\n",
       "      <th>17390</th>\n",
       "      <td>tilly</td>\n",
       "      <td>I am going to the doctors friday for a health ...</td>\n",
       "      <td>177</td>\n",
       "      <td>0</td>\n",
       "      <td>1</td>\n",
       "      <td>[I, am, going, to, the, doctors, friday, for, ...</td>\n",
       "      <td>[I, am, going, to, the, doctor, friday, for, a...</td>\n",
       "      <td>I am going to the doctor friday for a health c...</td>\n",
       "    </tr>\n",
       "    <tr>\n",
       "      <th>17391</th>\n",
       "      <td>zetsumei</td>\n",
       "      <td>Recently I have not had TIME to be depressed a...</td>\n",
       "      <td>6111</td>\n",
       "      <td>1</td>\n",
       "      <td>1</td>\n",
       "      <td>[Recently, I, have, not, had, TIME, to, be, de...</td>\n",
       "      <td>[Recently, I, have, not, had, TIME, to, be, de...</td>\n",
       "      <td>Recently I have not had TIME to be depressed a...</td>\n",
       "    </tr>\n",
       "    <tr>\n",
       "      <th>17392</th>\n",
       "      <td>beautifullysuicidal2007</td>\n",
       "      <td>I love getting constructive criticisim for wha...</td>\n",
       "      <td>true);</td>\n",
       "      <td>0</td>\n",
       "      <td>1</td>\n",
       "      <td>[I, love, getting, constructive, criticisim, f...</td>\n",
       "      <td>[I, love, getting, constructive, criticisim, f...</td>\n",
       "      <td>I love getting constructive criticisim for wha...</td>\n",
       "    </tr>\n",
       "    <tr>\n",
       "      <th>17393</th>\n",
       "      <td>silent_cry</td>\n",
       "      <td>ARGGGGGGGGGHHHHHHHHHHHHHHHHHHH im pissed off h...</td>\n",
       "      <td>NaN</td>\n",
       "      <td>3164</td>\n",
       "      <td>1</td>\n",
       "      <td>[ARGGGGGGGGGHHHHHHHHHHHHHHHHHHH, im, pissed, o...</td>\n",
       "      <td>[ARGGGGGGGGGHHHHHHHHHHHHHHHHHHH, im, pissed, o...</td>\n",
       "      <td>ARGGGGGGGGGHHHHHHHHHHHHHHHHHHH im pissed off h...</td>\n",
       "    </tr>\n",
       "    <tr>\n",
       "      <th>17394</th>\n",
       "      <td>ghost</td>\n",
       "      <td>aint life grand now i have to get a new better...</td>\n",
       "      <td>172</td>\n",
       "      <td>0</td>\n",
       "      <td>1</td>\n",
       "      <td>[aint, life, grand, now, i, have, to, get, a, ...</td>\n",
       "      <td>[aint, life, grand, now, i, have, to, get, a, ...</td>\n",
       "      <td>aint life grand now i have to get a new better...</td>\n",
       "    </tr>\n",
       "    <tr>\n",
       "      <th>17395</th>\n",
       "      <td>doomfunk12</td>\n",
       "      <td>I have a song on repeat because its one of the...</td>\n",
       "      <td>246</td>\n",
       "      <td>0</td>\n",
       "      <td>1</td>\n",
       "      <td>[I, have, a, song, on, repeat, because, its, o...</td>\n",
       "      <td>[I, have, a, song, on, repeat, because, it, on...</td>\n",
       "      <td>I have a song on repeat because it one of the ...</td>\n",
       "    </tr>\n",
       "    <tr>\n",
       "      <th>17396</th>\n",
       "      <td>crimson</td>\n",
       "      <td>so im sad lonely i guess i miss my girlfriend ...</td>\n",
       "      <td>10935</td>\n",
       "      <td>58</td>\n",
       "      <td>1</td>\n",
       "      <td>[so, im, sad, lonely, i, guess, i, miss, my, g...</td>\n",
       "      <td>[so, im, sad, lonely, i, guess, i, miss, my, g...</td>\n",
       "      <td>so im sad lonely i guess i miss my girlfriend ...</td>\n",
       "    </tr>\n",
       "  </tbody>\n",
       "</table>\n",
       "<p>17397 rows × 8 columns</p>\n",
       "</div>"
      ],
      "text/plain": [
       "                      username  \\\n",
       "0                        juno2   \n",
       "1                  timetourist   \n",
       "2             insearchofpeople   \n",
       "3             insearchofpeople   \n",
       "4                     lilyfrog   \n",
       "5           callherblackmariah   \n",
       "6                  sensualgirl   \n",
       "7              lavendernothing   \n",
       "8             insearchofpeople   \n",
       "9                always_lonely   \n",
       "10                 endlesstear   \n",
       "11            insearchofpeople   \n",
       "12                        redq   \n",
       "13                   omniverse   \n",
       "14                   omniverse   \n",
       "15                     oldlady   \n",
       "16                      blkdog   \n",
       "17                    inth33nd   \n",
       "18                    wisteria   \n",
       "19                hiddensmiles   \n",
       "20                   eric_lost   \n",
       "21                      lost45   \n",
       "22                    graymoon   \n",
       "23                    lilyfrog   \n",
       "24              wastinglight98   \n",
       "25                       angie   \n",
       "26                        bc10   \n",
       "27                  clementiny   \n",
       "28                     newwife   \n",
       "29                 black_sheep   \n",
       "...                        ...   \n",
       "17367             shadowaka086   \n",
       "17368                 jstreba1   \n",
       "17369                    panga   \n",
       "17370            punkchiclet88   \n",
       "17371                    tilly   \n",
       "17372       beautifullyscarred   \n",
       "17373                    tilly   \n",
       "17374               doomfunk12   \n",
       "17375      distorted_innocence   \n",
       "17376                    ghost   \n",
       "17377                    ghost   \n",
       "17378                    tilly   \n",
       "17379         disposable_angel   \n",
       "17380                carpediem   \n",
       "17381       beautifullyscarred   \n",
       "17382          unfortunateself   \n",
       "17383               doomfunk12   \n",
       "17384            punkchiclet88   \n",
       "17385                 zetsumei   \n",
       "17386               silent_cry   \n",
       "17387                    tilly   \n",
       "17388                  dreamer   \n",
       "17389                   mousey   \n",
       "17390                    tilly   \n",
       "17391                 zetsumei   \n",
       "17392  beautifullysuicidal2007   \n",
       "17393               silent_cry   \n",
       "17394                    ghost   \n",
       "17395               doomfunk12   \n",
       "17396                  crimson   \n",
       "\n",
       "                                                    text siteposts  \\\n",
       "0      Ive kept my depression and OCD hidden from my ...         7   \n",
       "1      Ive had clinical depression for a little over ...        36   \n",
       "2      Yesterday I quit my job of  years This job gav...       268   \n",
       "3      I got a new roommate A guy who found me on FB ...       268   \n",
       "4      Ok Had a really bad weekend this weekend gone ...       164   \n",
       "5      Everyday I see people going about their lives ...         1   \n",
       "6      All the suffering I went through and now Im fi...      5349   \n",
       "7      Im a  year olds and Ive been drawing since I w...         2   \n",
       "8      So I wasnt sure about my new roommate We seem ...       268   \n",
       "9      Hi I am a good and giving person normally and ...         2   \n",
       "10     So I want to talk about my life to begin with ...        61   \n",
       "11     I was trying hard to build a new life for myse...       268   \n",
       "12     Ive done so much harm in my life Ive slept wit...         2   \n",
       "13     I am going to express whats on my mind in rega...         4   \n",
       "14     I am going to express whats on my mind in rega...         4   \n",
       "15     I belong to a forum where caregivers of loved ...      1631   \n",
       "16     My parents are coming to visit was the news I ...         2   \n",
       "17     I used to be a really smart confident hard wor...         1   \n",
       "18     I just started online therapy to deal with som...         4   \n",
       "19     The late night demons They plague me They are ...         1   \n",
       "20     I remembered reading other peoples posts from ...         2   \n",
       "21     Its been a long time since i last logged in I ...       121   \n",
       "22     I am completely alone I want to scream I want ...         1   \n",
       "23     i have a lot going on in life a lot I should b...       164   \n",
       "24     I started noticing this a few months ago and i...        20   \n",
       "25     Hi guys Just feeling pretty down today No moti...       574   \n",
       "26     Ive documented my depression and relationship ...         1   \n",
       "27     Im  years old and my parents control the sht o...         4   \n",
       "28     I need help And I dont know if it needs to be ...         1   \n",
       "29     Home used to be the one place where I could re...       696   \n",
       "...                                                  ...       ...   \n",
       "17367  Ive realized now that its not okay to go both ...      4335   \n",
       "17368  havent been here in a couple of days and let m...      1243   \n",
       "17369  hi everyone i havent been here for ages and i ...      1306   \n",
       "17370  My school just had a lock down drill thats whe...      6257   \n",
       "17371  Today has kind of been worse my laptop is mess...       177   \n",
       "17372  so lately ive been feeling like shitive been f...       987   \n",
       "17373  Today i was having a lovely time with my god m...       177   \n",
       "17374  When I joined TTL I mentioned that I was going...       246   \n",
       "17375  my mom is buying me a ticket to go live with h...      2008   \n",
       "17376  that im just like every one else down feeling ...       172   \n",
       "17377  i failed i lost e dosnt like me as far as i kn...       172   \n",
       "17378  Well i went to the doctors today and told him ...       177   \n",
       "17379  ok so my dads mom is dying shes in a hospice i...      3339   \n",
       "17380  ok so over the last  months i have completely ...        37   \n",
       "17381  my goal in life is to move on and forget you T...       987   \n",
       "17382  I hate feeling like this Sitting here at work ...        11   \n",
       "17383  This week hosts the anniversary of my Mom pass...       246   \n",
       "17384  Is today screw Punk day Did everyone get memos...      6257   \n",
       "17385  I have had it I have snapped life is shit so l...      6111   \n",
       "17386  im not feeling so good today  really cant b bo...       NaN   \n",
       "17387  I know i have a lot of issues and that i am ge...       177   \n",
       "17388  im sad i dont know why im letting it happen it...      4075   \n",
       "17389  I set rules for myself and I was doing very we...     10399   \n",
       "17390  I am going to the doctors friday for a health ...       177   \n",
       "17391  Recently I have not had TIME to be depressed a...      6111   \n",
       "17392  I love getting constructive criticisim for wha...    true);   \n",
       "17393  ARGGGGGGGGGHHHHHHHHHHHHHHHHHHH im pissed off h...       NaN   \n",
       "17394  aint life grand now i have to get a new better...       172   \n",
       "17395  I have a song on repeat because its one of the...       246   \n",
       "17396  so im sad lonely i guess i miss my girlfriend ...     10935   \n",
       "\n",
       "      swedishfish  insuicide  \\\n",
       "0               0          0   \n",
       "1              23          0   \n",
       "2              92          1   \n",
       "3              92          1   \n",
       "4             271          1   \n",
       "5               0          0   \n",
       "6             681          0   \n",
       "7               0          1   \n",
       "8              92          1   \n",
       "9               0          0   \n",
       "10             24          1   \n",
       "11             92          1   \n",
       "12              0          0   \n",
       "13              0          0   \n",
       "14              0          0   \n",
       "15            125          0   \n",
       "16              0          0   \n",
       "17              0          0   \n",
       "18              0          0   \n",
       "19              0          0   \n",
       "20              0          0   \n",
       "21              6          1   \n",
       "22              0          0   \n",
       "23            271          1   \n",
       "24              5          0   \n",
       "25            247          1   \n",
       "26              0          0   \n",
       "27              0          0   \n",
       "28              0          0   \n",
       "29            402          1   \n",
       "...           ...        ...   \n",
       "17367         353          1   \n",
       "17368           0          1   \n",
       "17369           0          1   \n",
       "17370         116          1   \n",
       "17371           0          1   \n",
       "17372           0          1   \n",
       "17373           0          1   \n",
       "17374           0          1   \n",
       "17375           1          1   \n",
       "17376           0          1   \n",
       "17377           0          1   \n",
       "17378           0          1   \n",
       "17379           0          1   \n",
       "17380           0          0   \n",
       "17381           0          1   \n",
       "17382           0          0   \n",
       "17383           0          1   \n",
       "17384         116          1   \n",
       "17385           1          1   \n",
       "17386        3164          1   \n",
       "17387           0          1   \n",
       "17388           0          1   \n",
       "17389         687          1   \n",
       "17390           0          1   \n",
       "17391           1          1   \n",
       "17392           0          1   \n",
       "17393        3164          1   \n",
       "17394           0          1   \n",
       "17395           0          1   \n",
       "17396          58          1   \n",
       "\n",
       "                                                  tokens  \\\n",
       "0      [Ive, kept, my, depression, and, OCD, hidden, ...   \n",
       "1      [Ive, had, clinical, depression, for, a, littl...   \n",
       "2      [Yesterday, I, quit, my, job, of, years, This,...   \n",
       "3      [I, got, a, new, roommate, A, guy, who, found,...   \n",
       "4      [Ok, Had, a, really, bad, weekend, this, weeke...   \n",
       "5      [Everyday, I, see, people, going, about, their...   \n",
       "6      [All, the, suffering, I, went, through, and, n...   \n",
       "7      [Im, a, year, olds, and, Ive, been, drawing, s...   \n",
       "8      [So, I, wasnt, sure, about, my, new, roommate,...   \n",
       "9      [Hi, I, am, a, good, and, giving, person, norm...   \n",
       "10     [So, I, want, to, talk, about, my, life, to, b...   \n",
       "11     [I, was, trying, hard, to, build, a, new, life...   \n",
       "12     [Ive, done, so, much, harm, in, my, life, Ive,...   \n",
       "13     [I, am, going, to, express, whats, on, my, min...   \n",
       "14     [I, am, going, to, express, whats, on, my, min...   \n",
       "15     [I, belong, to, a, forum, where, caregivers, o...   \n",
       "16     [My, parents, are, coming, to, visit, was, the...   \n",
       "17     [I, used, to, be, a, really, smart, confident,...   \n",
       "18     [I, just, started, online, therapy, to, deal, ...   \n",
       "19     [The, late, night, demons, They, plague, me, T...   \n",
       "20     [I, remembered, reading, other, peoples, posts...   \n",
       "21     [Its, been, a, long, time, since, i, last, log...   \n",
       "22     [I, am, completely, alone, I, want, to, scream...   \n",
       "23     [i, have, a, lot, going, on, in, life, a, lot,...   \n",
       "24     [I, started, noticing, this, a, few, months, a...   \n",
       "25     [Hi, guys, Just, feeling, pretty, down, today,...   \n",
       "26     [Ive, documented, my, depression, and, relatio...   \n",
       "27     [Im, years, old, and, my, parents, control, th...   \n",
       "28     [I, need, help, And, I, dont, know, if, it, ne...   \n",
       "29     [Home, used, to, be, the, one, place, where, I...   \n",
       "...                                                  ...   \n",
       "17367  [Ive, realized, now, that, its, not, okay, to,...   \n",
       "17368  [havent, been, here, in, a, couple, of, days, ...   \n",
       "17369  [hi, everyone, i, havent, been, here, for, age...   \n",
       "17370  [My, school, just, had, a, lock, down, drill, ...   \n",
       "17371  [Today, has, kind, of, been, worse, my, laptop...   \n",
       "17372  [so, lately, ive, been, feeling, like, shitive...   \n",
       "17373  [Today, i, was, having, a, lovely, time, with,...   \n",
       "17374  [When, I, joined, TTL, I, mentioned, that, I, ...   \n",
       "17375  [my, mom, is, buying, me, a, ticket, to, go, l...   \n",
       "17376  [that, im, just, like, every, one, else, down,...   \n",
       "17377  [i, failed, i, lost, e, dosnt, like, me, as, f...   \n",
       "17378  [Well, i, went, to, the, doctors, today, and, ...   \n",
       "17379  [ok, so, my, dads, mom, is, dying, shes, in, a...   \n",
       "17380  [ok, so, over, the, last, months, i, have, com...   \n",
       "17381  [my, goal, in, life, is, to, move, on, and, fo...   \n",
       "17382  [I, hate, feeling, like, this, Sitting, here, ...   \n",
       "17383  [This, week, hosts, the, anniversary, of, my, ...   \n",
       "17384  [Is, today, screw, Punk, day, Did, everyone, g...   \n",
       "17385  [I, have, had, it, I, have, snapped, life, is,...   \n",
       "17386  [im, not, feeling, so, good, today, really, ca...   \n",
       "17387  [I, know, i, have, a, lot, of, issues, and, th...   \n",
       "17388  [im, sad, i, dont, know, why, im, letting, it,...   \n",
       "17389  [I, set, rules, for, myself, and, I, was, doin...   \n",
       "17390  [I, am, going, to, the, doctors, friday, for, ...   \n",
       "17391  [Recently, I, have, not, had, TIME, to, be, de...   \n",
       "17392  [I, love, getting, constructive, criticisim, f...   \n",
       "17393  [ARGGGGGGGGGHHHHHHHHHHHHHHHHHHH, im, pissed, o...   \n",
       "17394  [aint, life, grand, now, i, have, to, get, a, ...   \n",
       "17395  [I, have, a, song, on, repeat, because, its, o...   \n",
       "17396  [so, im, sad, lonely, i, guess, i, miss, my, g...   \n",
       "\n",
       "                                                 lemtext  \\\n",
       "0      [Ive, kept, my, depression, and, OCD, hidden, ...   \n",
       "1      [Ive, had, clinical, depression, for, a, littl...   \n",
       "2      [Yesterday, I, quit, my, job, of, year, This, ...   \n",
       "3      [I, got, a, new, roommate, A, guy, who, found,...   \n",
       "4      [Ok, Had, a, really, bad, weekend, this, weeke...   \n",
       "5      [Everyday, I, see, people, going, about, their...   \n",
       "6      [All, the, suffering, I, went, through, and, n...   \n",
       "7      [Im, a, year, old, and, Ive, been, drawing, si...   \n",
       "8      [So, I, wasnt, sure, about, my, new, roommate,...   \n",
       "9      [Hi, I, am, a, good, and, giving, person, norm...   \n",
       "10     [So, I, want, to, talk, about, my, life, to, b...   \n",
       "11     [I, wa, trying, hard, to, build, a, new, life,...   \n",
       "12     [Ive, done, so, much, harm, in, my, life, Ive,...   \n",
       "13     [I, am, going, to, express, whats, on, my, min...   \n",
       "14     [I, am, going, to, express, whats, on, my, min...   \n",
       "15     [I, belong, to, a, forum, where, caregiver, of...   \n",
       "16     [My, parent, are, coming, to, visit, wa, the, ...   \n",
       "17     [I, used, to, be, a, really, smart, confident,...   \n",
       "18     [I, just, started, online, therapy, to, deal, ...   \n",
       "19     [The, late, night, demon, They, plague, me, Th...   \n",
       "20     [I, remembered, reading, other, people, post, ...   \n",
       "21     [Its, been, a, long, time, since, i, last, log...   \n",
       "22     [I, am, completely, alone, I, want, to, scream...   \n",
       "23     [i, have, a, lot, going, on, in, life, a, lot,...   \n",
       "24     [I, started, noticing, this, a, few, month, ag...   \n",
       "25     [Hi, guy, Just, feeling, pretty, down, today, ...   \n",
       "26     [Ive, documented, my, depression, and, relatio...   \n",
       "27     [Im, year, old, and, my, parent, control, the,...   \n",
       "28     [I, need, help, And, I, dont, know, if, it, ne...   \n",
       "29     [Home, used, to, be, the, one, place, where, I...   \n",
       "...                                                  ...   \n",
       "17367  [Ive, realized, now, that, it, not, okay, to, ...   \n",
       "17368  [havent, been, here, in, a, couple, of, day, a...   \n",
       "17369  [hi, everyone, i, havent, been, here, for, age...   \n",
       "17370  [My, school, just, had, a, lock, down, drill, ...   \n",
       "17371  [Today, ha, kind, of, been, worse, my, laptop,...   \n",
       "17372  [so, lately, ive, been, feeling, like, shitive...   \n",
       "17373  [Today, i, wa, having, a, lovely, time, with, ...   \n",
       "17374  [When, I, joined, TTL, I, mentioned, that, I, ...   \n",
       "17375  [my, mom, is, buying, me, a, ticket, to, go, l...   \n",
       "17376  [that, im, just, like, every, one, else, down,...   \n",
       "17377  [i, failed, i, lost, e, dosnt, like, me, a, fa...   \n",
       "17378  [Well, i, went, to, the, doctor, today, and, t...   \n",
       "17379  [ok, so, my, dad, mom, is, dying, shes, in, a,...   \n",
       "17380  [ok, so, over, the, last, month, i, have, comp...   \n",
       "17381  [my, goal, in, life, is, to, move, on, and, fo...   \n",
       "17382  [I, hate, feeling, like, this, Sitting, here, ...   \n",
       "17383  [This, week, host, the, anniversary, of, my, M...   \n",
       "17384  [Is, today, screw, Punk, day, Did, everyone, g...   \n",
       "17385  [I, have, had, it, I, have, snapped, life, is,...   \n",
       "17386  [im, not, feeling, so, good, today, really, ca...   \n",
       "17387  [I, know, i, have, a, lot, of, issue, and, tha...   \n",
       "17388  [im, sad, i, dont, know, why, im, letting, it,...   \n",
       "17389  [I, set, rule, for, myself, and, I, wa, doing,...   \n",
       "17390  [I, am, going, to, the, doctor, friday, for, a...   \n",
       "17391  [Recently, I, have, not, had, TIME, to, be, de...   \n",
       "17392  [I, love, getting, constructive, criticisim, f...   \n",
       "17393  [ARGGGGGGGGGHHHHHHHHHHHHHHHHHHH, im, pissed, o...   \n",
       "17394  [aint, life, grand, now, i, have, to, get, a, ...   \n",
       "17395  [I, have, a, song, on, repeat, because, it, on...   \n",
       "17396  [so, im, sad, lonely, i, guess, i, miss, my, g...   \n",
       "\n",
       "                                                   text2  \n",
       "0      Ive kept my depression and OCD hidden from my ...  \n",
       "1      Ive had clinical depression for a little over ...  \n",
       "2      Yesterday I quit my job of year This job gave ...  \n",
       "3      I got a new roommate A guy who found me on FB ...  \n",
       "4      Ok Had a really bad weekend this weekend gone ...  \n",
       "5      Everyday I see people going about their life L...  \n",
       "6      All the suffering I went through and now Im fi...  \n",
       "7      Im a year old and Ive been drawing since I wa ...  \n",
       "8      So I wasnt sure about my new roommate We seem ...  \n",
       "9      Hi I am a good and giving person normally and ...  \n",
       "10     So I want to talk about my life to begin with ...  \n",
       "11     I wa trying hard to build a new life for mysel...  \n",
       "12     Ive done so much harm in my life Ive slept wit...  \n",
       "13     I am going to express whats on my mind in rega...  \n",
       "14     I am going to express whats on my mind in rega...  \n",
       "15     I belong to a forum where caregiver of loved o...  \n",
       "16     My parent are coming to visit wa the news I he...  \n",
       "17     I used to be a really smart confident hard wor...  \n",
       "18     I just started online therapy to deal with som...  \n",
       "19     The late night demon They plague me They are s...  \n",
       "20     I remembered reading other people post from he...  \n",
       "21     Its been a long time since i last logged in I ...  \n",
       "22     I am completely alone I want to scream I want ...  \n",
       "23     i have a lot going on in life a lot I should b...  \n",
       "24     I started noticing this a few month ago and it...  \n",
       "25     Hi guy Just feeling pretty down today No motiv...  \n",
       "26     Ive documented my depression and relationship ...  \n",
       "27     Im year old and my parent control the sht out ...  \n",
       "28     I need help And I dont know if it need to be p...  \n",
       "29     Home used to be the one place where I could re...  \n",
       "...                                                  ...  \n",
       "17367  Ive realized now that it not okay to go both w...  \n",
       "17368  havent been here in a couple of day and let me...  \n",
       "17369  hi everyone i havent been here for age and i d...  \n",
       "17370  My school just had a lock down drill thats whe...  \n",
       "17371  Today ha kind of been worse my laptop is messe...  \n",
       "17372  so lately ive been feeling like shitive been f...  \n",
       "17373  Today i wa having a lovely time with my god mo...  \n",
       "17374  When I joined TTL I mentioned that I wa going ...  \n",
       "17375  my mom is buying me a ticket to go live with h...  \n",
       "17376  that im just like every one else down feeling ...  \n",
       "17377  i failed i lost e dosnt like me a far a i know...  \n",
       "17378  Well i went to the doctor today and told him h...  \n",
       "17379  ok so my dad mom is dying shes in a hospice in...  \n",
       "17380  ok so over the last month i have completely al...  \n",
       "17381  my goal in life is to move on and forget you T...  \n",
       "17382  I hate feeling like this Sitting here at work ...  \n",
       "17383  This week host the anniversary of my Mom passi...  \n",
       "17384  Is today screw Punk day Did everyone get memo ...  \n",
       "17385  I have had it I have snapped life is shit so l...  \n",
       "17386  im not feeling so good today really cant b bot...  \n",
       "17387  I know i have a lot of issue and that i am get...  \n",
       "17388  im sad i dont know why im letting it happen it...  \n",
       "17389  I set rule for myself and I wa doing very well...  \n",
       "17390  I am going to the doctor friday for a health c...  \n",
       "17391  Recently I have not had TIME to be depressed a...  \n",
       "17392  I love getting constructive criticisim for wha...  \n",
       "17393  ARGGGGGGGGGHHHHHHHHHHHHHHHHHHH im pissed off h...  \n",
       "17394  aint life grand now i have to get a new better...  \n",
       "17395  I have a song on repeat because it one of the ...  \n",
       "17396  so im sad lonely i guess i miss my girlfriend ...  \n",
       "\n",
       "[17397 rows x 8 columns]"
      ]
     },
     "execution_count": 82,
     "metadata": {},
     "output_type": "execute_result"
    }
   ],
   "source": [
    "lemmatizer_df(depression)"
   ]
  },
  {
   "cell_type": "code",
   "execution_count": 84,
   "metadata": {
    "collapsed": true
   },
   "outputs": [],
   "source": [
    "##removing any usernames from within the actual text as users\n",
    "## often sign their name at the end of each post and several users were showing up as features\n",
    "usernames=depression.username.unique()\n",
    "depression.text2 = [\" \".join([word for word in x.split() if word not in usernames]) for x in depression.text2]"
   ]
  },
  {
   "cell_type": "code",
   "execution_count": 85,
   "metadata": {
    "collapsed": true
   },
   "outputs": [],
   "source": [
    "##changing my 2 numeric columns into numeric dtype\n",
    "depression['swedishfish'] = pd.to_numeric(depression.swedishfish, errors='coerce')\n",
    "depression['siteposts'] = pd.to_numeric(depression.siteposts, errors='coerce')\n",
    "depression.fillna(0,inplace=True)"
   ]
  },
  {
   "cell_type": "code",
   "execution_count": 86,
   "metadata": {
    "collapsed": true
   },
   "outputs": [],
   "source": [
    "train, test = train_test_split(depression,stratify=depression.insuicide,test_size=.3, random_state=9245)"
   ]
  },
  {
   "cell_type": "code",
   "execution_count": 87,
   "metadata": {
    "collapsed": true
   },
   "outputs": [],
   "source": [
    "depression.to_csv(/Users/yonilevine//Users/yonilevine//Desktop/Capstone/datasets/nlp_ready.csv\")"
   ]
  },
  {
   "cell_type": "code",
   "execution_count": null,
   "metadata": {
    "collapsed": true
   },
   "outputs": [],
   "source": [
    "## I ran through a lot of dif types of models here to see which ones I should pursue further or not. I did a tfidf and\n",
    "##reg count vectorizer for logistic regression, multinomial naive bayes, bernouli nb, random forest, and SVC for a \n",
    "#total of ten model. The two best were logistic regression and SVC both with tfidf, which I gridsearched the best parameters\n",
    "#for later on in my notebook\n",
    "\n",
    "pipeline = Pipeline([\n",
    "    ('vect', CountVectorizer(stop_words='english')),\n",
    "    ('tfidf', TfidfTransformer()),\n",
    "    ('cls', MultinomialNB())\n",
    "]) \n",
    "pipeline.fit(train['text2'], train[\"insuicide\"])\n",
    "\n",
    "pipeline.score(test['text2'], test['insuicide'])"
   ]
  },
  {
   "cell_type": "code",
   "execution_count": null,
   "metadata": {
    "collapsed": true
   },
   "outputs": [],
   "source": [
    "pipeline = Pipeline([\n",
    "    ('vect', CountVectorizer(stop_words='english')),\n",
    "    ('cls', MultinomialNB())\n",
    "])  \n",
    "pipeline.fit(train['text2'], train[\"insuicide\"])\n",
    "\n",
    "pipeline.score(test['text2'], test['insuicide'])"
   ]
  },
  {
   "cell_type": "code",
   "execution_count": null,
   "metadata": {
    "collapsed": true
   },
   "outputs": [],
   "source": []
  },
  {
   "cell_type": "code",
   "execution_count": null,
   "metadata": {
    "collapsed": true
   },
   "outputs": [],
   "source": [
    "pipeline = Pipeline([\n",
    "    ('vect', CountVectorizer(stop_words='english')),\n",
    "    ('cls', BernoulliNB())\n",
    "]) \n",
    "pipeline.fit(train['text2'], train[\"insuicide\"])\n",
    "\n",
    "pipeline.score(test['text2'], test['insuicide'])"
   ]
  },
  {
   "cell_type": "code",
   "execution_count": null,
   "metadata": {
    "collapsed": true
   },
   "outputs": [],
   "source": [
    "pipeline = Pipeline([\n",
    "    ('vect', CountVectorizer(stop_words='english')),\n",
    "    ('tfidf', TfidfTransformer()),\n",
    "    ('cls', LogisticRegression())\n",
    "]) \n",
    "pipeline.fit(train['text2'], train[\"insuicide\"])\n",
    "\n",
    "pipeline.score(test['text2'], test['insuicide'])"
   ]
  },
  {
   "cell_type": "code",
   "execution_count": null,
   "metadata": {
    "collapsed": true
   },
   "outputs": [],
   "source": [
    "pipeline = Pipeline([\n",
    "    ('vect', CountVectorizer(stop_words='english')),\n",
    "    ('cls', LogisticRegression())\n",
    "]) \n",
    "pipeline.fit(train['text2'], train[\"insuicide\"])\n",
    "\n",
    "pipeline.score(test['text2'], test['insuicide'])"
   ]
  },
  {
   "cell_type": "code",
   "execution_count": null,
   "metadata": {
    "collapsed": true
   },
   "outputs": [],
   "source": [
    "pipeline = Pipeline([\n",
    "    ('vect', CountVectorizer(stop_words='english')),\n",
    "    ('tfidf', TfidfTransformer()),\n",
    "    ('cls', RandomForestClassifier())\n",
    "]) \n",
    "pipeline.fit(train['text2'], train[\"insuicide\"])\n",
    "\n",
    "pipeline.score(test['text2'], test['insuicide'])"
   ]
  },
  {
   "cell_type": "code",
   "execution_count": null,
   "metadata": {
    "collapsed": true
   },
   "outputs": [],
   "source": [
    "pipeline = Pipeline([\n",
    "    ('vect', CountVectorizer(stop_words='english')),\n",
    "    ('cls', RandomForestClassifier())\n",
    "]) \n",
    "pipeline.fit(train['text2'], train[\"insuicide\"])\n",
    "\n",
    "pipeline.score(test['text2'], test['insuicide'])"
   ]
  },
  {
   "cell_type": "code",
   "execution_count": null,
   "metadata": {
    "collapsed": true
   },
   "outputs": [],
   "source": [
    "pipeline = Pipeline([\n",
    "    ('vect', CountVectorizer(stop_words='english')),\n",
    "    ('cls', SVC(kernel='linear'))\n",
    "]) \n",
    "pipeline.fit(train['text2'], train[\"insuicide\"])\n",
    "\n",
    "pipeline.score(test['text2'], test['insuicide'])"
   ]
  },
  {
   "cell_type": "code",
   "execution_count": null,
   "metadata": {
    "collapsed": true
   },
   "outputs": [],
   "source": [
    "pipeline = Pipeline([\n",
    "    ('vect', CountVectorizer(stop_words='english')),\n",
    "    ('tfidf', TfidfTransformer()),\n",
    "    ('cls', SVC(kernel='linear'))\n",
    "]) \n",
    "pipeline.fit(train['text2'], train[\"insuicide\"])\n",
    "\n",
    "pipeline.score(test['text2'], test['insuicide'])"
   ]
  },
  {
   "cell_type": "code",
   "execution_count": null,
   "metadata": {
    "collapsed": true
   },
   "outputs": [],
   "source": [
    "pipeline = Pipeline([\n",
    "    ('vect', CountVectorizer(stop_words='english')),\n",
    "    ('cls', SVC())\n",
    "]) \n",
    "pipeline.fit(train['text2'], train[\"insuicide\"])\n",
    "\n",
    "pipeline.score(test['text2'], test['insuicide'])"
   ]
  },
  {
   "cell_type": "code",
   "execution_count": null,
   "metadata": {
    "collapsed": true
   },
   "outputs": [],
   "source": [
    "pipeline = Pipeline([\n",
    "    ('vect', CountVectorizer(stop_words='english')),\n",
    "    ('tfidf', TfidfTransformer()),\n",
    "    ('cls', SVC())\n",
    "]) \n",
    "pipeline.fit(train['text2'], train[\"insuicide\"])\n",
    "\n",
    "pipeline.score(test['text2'], test['insuicide'])"
   ]
  },
  {
   "cell_type": "markdown",
   "metadata": {},
   "source": [
    "### Final Model Selection\n",
    "I gridsearched over my two top models to find the best parameters, however I ran this in the cloud and would not recommend running this on your computer it will take a long time. The best parameters for logistic regression models are C=1 and penalty='l2', and the best parameters for the SVC were a linear kernel and C=1. Note that all scores are an roc-auc score."
   ]
  },
  {
   "cell_type": "markdown",
   "metadata": {},
   "source": [
    "#### Weighted Logistic Regression Model"
   ]
  },
  {
   "cell_type": "code",
   "execution_count": null,
   "metadata": {
    "collapsed": true
   },
   "outputs": [],
   "source": [
    "## gridsearching on the best parameters for my two best performing\n",
    "##models to optimize them further\n",
    "\n",
    "params={'model__C':[.001,.01,.05,.1,.5,1,5,10],\n",
    "           'model__penalty':['l1','l2']}\n",
    "pipelinelrw = Pipeline([\n",
    "    ('vect', CountVectorizer(min_df=40,ngram_range=(1,4),lowercase=True,strip_accents='ascii')),\n",
    "    ('tfidf', TfidfTransformer()),\n",
    "    ('model',LogisticRegression(class_weight={0:1,1:1.5}))])\n",
    "gridlrw = GridSearchCV(pipelinelrw, cv=5, n_jobs=-1, param_grid=params ,scoring='roc_auc')\n",
    "\n",
    "gridlrw.fit(train['text2'], train[\"insuicide\"])\n",
    "\n",
    "gridlrw.score(test['text2'], test['insuicide'])"
   ]
  },
  {
   "cell_type": "code",
   "execution_count": null,
   "metadata": {
    "collapsed": true
   },
   "outputs": [],
   "source": [
    "predlrw=gridlrw.predict(test['text2'])\n",
    "print(classification_report(test['insuicide'], predlrw, labels=[0,1], target_names=['depressive', 'suicidal']))"
   ]
  },
  {
   "cell_type": "markdown",
   "metadata": {},
   "source": [
    "#### Logistic Regression Model "
   ]
  },
  {
   "cell_type": "code",
   "execution_count": null,
   "metadata": {
    "collapsed": true
   },
   "outputs": [],
   "source": [
    "\n",
    "params={'model__C':[.001,.01,.05,.1,.5,1,5,10],\n",
    "           'model__penalty':['l1','l2']}\n",
    "pipelinelr = Pipeline([\n",
    "    ('vect', CountVectorizer(min_df=40,ngram_range=(1,4),lowercase=True,strip_accents='ascii')),\n",
    "    ('tfidf', TfidfTransformer()),\n",
    "    ('model',LogisticRegression(class_weight={0:1,1:1.5}))])\n",
    "gridlr = GridSearchCV(pipelinelrw, cv=5, n_jobs=-1, param_grid=params ,scoring='roc_auc')\n",
    "\n",
    "gridlr.fit(train['text2'], train[\"insuicide\"])\n",
    "\n",
    "gridlr.score(test['text2'], test['insuicide'])"
   ]
  },
  {
   "cell_type": "code",
   "execution_count": null,
   "metadata": {
    "collapsed": true
   },
   "outputs": [],
   "source": [
    "predlr=gridlr.predict(test['text2'])\n",
    "print(classification_report(test['insuicide'], predlr, labels=[0,1], target_names=['depressive', 'suicidal']))"
   ]
  },
  {
   "cell_type": "markdown",
   "metadata": {},
   "source": [
    "#### SVC"
   ]
  },
  {
   "cell_type": "code",
   "execution_count": null,
   "metadata": {
    "collapsed": true
   },
   "outputs": [],
   "source": [
    " \n",
    "params={'model__C':[.01,.05,.1,1,5],\n",
    "           'model__kernel':['linear','poly','rbf']}\n",
    "pipelinesvc = Pipeline([\n",
    "    ('vect', CountVectorizer(min_df=40,ngram_range=(1,4),lowercase=True,strip_accents='ascii')),\n",
    "    ('tfidf', TfidfTransformer()),\n",
    "    ('model',SVC())])\n",
    "gridsvc = GridSearchCV(pipelinesvc, cv=5, n_jobs=-1, param_grid=params ,scoring='roc_auc',verbose=1)\n",
    "\n",
    "gridsvc.fit(train['text2'], train['insuicide'])\n",
    "\n",
    "gridsvc.score(test['text2'], test['insuicide'])\n"
   ]
  },
  {
   "cell_type": "code",
   "execution_count": null,
   "metadata": {
    "collapsed": true
   },
   "outputs": [],
   "source": [
    "predsvc=gridsvc.predict(test['text2'])\n",
    "print(classification_report(test['insuicide'], predlrw, labels=[0,1], target_names=['depressive', 'suicidal']))"
   ]
  },
  {
   "cell_type": "markdown",
   "metadata": {},
   "source": [
    "Creating confusion matrixes of each logistic regression"
   ]
  },
  {
   "cell_type": "code",
   "execution_count": null,
   "metadata": {
    "collapsed": true
   },
   "outputs": [],
   "source": [
    "lr_cnf_matrix = confusion_matrix(test['insuicide'], predlr)\n",
    "np.set_printoptions(precision=2)\n",
    "\n",
    "\n",
    "plt.figure()\n",
    "plot_confusion_matrix(cnf_matrix, classes=['depressive','suicidal'],\n",
    "                      title='Logistic Regression')\n",
    "\n",
    "plt.show()"
   ]
  },
  {
   "cell_type": "code",
   "execution_count": null,
   "metadata": {
    "collapsed": true
   },
   "outputs": [],
   "source": [
    "lrw_cnf_matrix = confusion_matrix(test['insuicide'], predlrw)\n",
    "np.set_printoptions(precision=2)\n",
    "\n",
    "\n",
    "plt.figure()\n",
    "plot_confusion_matrix(cnf_matrix, classes=['depressive','suicidal'],\n",
    "                      title='Logistic Regression')\n",
    "\n",
    "plt.show()"
   ]
  },
  {
   "cell_type": "markdown",
   "metadata": {},
   "source": [
    "    "
   ]
  }
 ],
 "metadata": {
  "kernelspec": {
   "display_name": "Python 2",
   "language": "python",
   "name": "python2"
  },
  "language_info": {
   "codemirror_mode": {
    "name": "ipython",
    "version": 2
   },
   "file_extension": ".py",
   "mimetype": "text/x-python",
   "name": "python",
   "nbconvert_exporter": "python",
   "pygments_lexer": "ipython2",
   "version": "2.7.13"
  }
 },
 "nbformat": 4,
 "nbformat_minor": 2
}

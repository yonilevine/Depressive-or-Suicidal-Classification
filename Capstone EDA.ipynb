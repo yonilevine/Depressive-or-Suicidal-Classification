{
 "cells": [
  {
   "cell_type": "code",
   "execution_count": 3,
   "metadata": {
    "collapsed": true
   },
   "outputs": [],
   "source": [
    "import pandas as pd\n",
    "import numpy as np\n",
    "import seaborn as sns\n",
    "import matplotlib as plt\n",
    "import bokeh \n",
    "import re\n",
    "import spacy\n",
    "def eda_helper(df):\n",
    "    dict_list = []\n",
    "    for col in df.columns:\n",
    "        data = df[col]\n",
    "        dict_ = {}\n",
    "        # The null count for a column. Columns with no nulls are generally more interesting\n",
    "        dict_.update({\"null_count\" : data.isnull().sum()})\n",
    "        # Counting the unique values in a column\n",
    "        # This is useful for seeing how interesting the column might be as a feature\n",
    "        dict_.update({\"unique_count\" : len(data.unique())})\n",
    "        # Finding the types of data in the column\n",
    "        # This is useful for finding out potential problems with a column having strings and ints\n",
    "        dict_.update({\"data_type\" : set([type(d).__name__ for d in data])})\n",
    "        #dict_.update({\"score\" : match[1]})\n",
    "        dict_list.append(dict_)\n",
    "    eda_df = pd.DataFrame(dict_list)\n",
    "    eda_df.index = df.columns\n",
    "        \n",
    "    return eda_df\n",
    "import matplotlib.pyplot as plt\n",
    "import pandas as pd, seaborn as sns, numpy as np, matplotlib.pyplot as plt\n"
   ]
  },
  {
   "cell_type": "code",
   "execution_count": 4,
   "metadata": {
    "collapsed": true
   },
   "outputs": [],
   "source": [
    "depression=pd.read_csv(\"/Users/yonilevine/Desktop/Capstone/datasets/depression_17000_clean.csv\")"
   ]
  },
  {
   "cell_type": "code",
   "execution_count": 5,
   "metadata": {
    "collapsed": true
   },
   "outputs": [],
   "source": [
    "suicide=pd.read_csv(\"/Users/yonilevine/Desktop/Capstone/datasets/suicide_full.csv\")"
   ]
  },
  {
   "cell_type": "code",
   "execution_count": 6,
   "metadata": {},
   "outputs": [
    {
     "data": {
      "text/html": [
       "<div>\n",
       "<style>\n",
       "    .dataframe thead tr:only-child th {\n",
       "        text-align: right;\n",
       "    }\n",
       "\n",
       "    .dataframe thead th {\n",
       "        text-align: left;\n",
       "    }\n",
       "\n",
       "    .dataframe tbody tr th {\n",
       "        vertical-align: top;\n",
       "    }\n",
       "</style>\n",
       "<table border=\"1\" class=\"dataframe\">\n",
       "  <thead>\n",
       "    <tr style=\"text-align: right;\">\n",
       "      <th></th>\n",
       "      <th>username</th>\n",
       "      <th>text</th>\n",
       "      <th>posts</th>\n",
       "      <th>swedishfish</th>\n",
       "    </tr>\n",
       "  </thead>\n",
       "  <tbody>\n",
       "    <tr>\n",
       "      <th>0</th>\n",
       "      <td>Juno2</td>\n",
       "      <td>I've kept my depression and OCD hidden from my...</td>\n",
       "      <td>7.00</td>\n",
       "      <td>0.00</td>\n",
       "    </tr>\n",
       "    <tr>\n",
       "      <th>1</th>\n",
       "      <td>TimeTourist</td>\n",
       "      <td>I've had clinical depression for a little over...</td>\n",
       "      <td>36.00</td>\n",
       "      <td>23.00</td>\n",
       "    </tr>\n",
       "    <tr>\n",
       "      <th>2</th>\n",
       "      <td>InSearchOfPeople</td>\n",
       "      <td>Yesterday I quit my job of 5 years. This job g...</td>\n",
       "      <td>268.00</td>\n",
       "      <td>92.00</td>\n",
       "    </tr>\n",
       "    <tr>\n",
       "      <th>3</th>\n",
       "      <td>InSearchOfPeople</td>\n",
       "      <td>I got a new roommate. A guy who found me on FB...</td>\n",
       "      <td>268.00</td>\n",
       "      <td>92.00</td>\n",
       "    </tr>\n",
       "    <tr>\n",
       "      <th>4</th>\n",
       "      <td>Lilyfrog</td>\n",
       "      <td>Ok. Had a really bad weekend this weekend gone...</td>\n",
       "      <td>164.00</td>\n",
       "      <td>271.00</td>\n",
       "    </tr>\n",
       "  </tbody>\n",
       "</table>\n",
       "</div>"
      ],
      "text/plain": [
       "           username                                               text  \\\n",
       "0             Juno2  I've kept my depression and OCD hidden from my...   \n",
       "1       TimeTourist  I've had clinical depression for a little over...   \n",
       "2  InSearchOfPeople  Yesterday I quit my job of 5 years. This job g...   \n",
       "3  InSearchOfPeople  I got a new roommate. A guy who found me on FB...   \n",
       "4          Lilyfrog  Ok. Had a really bad weekend this weekend gone...   \n",
       "\n",
       "    posts swedishfish  \n",
       "0    7.00        0.00  \n",
       "1   36.00       23.00  \n",
       "2  268.00       92.00  \n",
       "3  268.00       92.00  \n",
       "4  164.00      271.00  "
      ]
     },
     "execution_count": 6,
     "metadata": {},
     "output_type": "execute_result"
    }
   ],
   "source": [
    "depression.head()"
   ]
  },
  {
   "cell_type": "code",
   "execution_count": 7,
   "metadata": {},
   "outputs": [
    {
     "data": {
      "text/html": [
       "<div>\n",
       "<style>\n",
       "    .dataframe thead tr:only-child th {\n",
       "        text-align: right;\n",
       "    }\n",
       "\n",
       "    .dataframe thead th {\n",
       "        text-align: left;\n",
       "    }\n",
       "\n",
       "    .dataframe tbody tr th {\n",
       "        vertical-align: top;\n",
       "    }\n",
       "</style>\n",
       "<table border=\"1\" class=\"dataframe\">\n",
       "  <thead>\n",
       "    <tr style=\"text-align: right;\">\n",
       "      <th></th>\n",
       "      <th>Unnamed: 0</th>\n",
       "      <th>username</th>\n",
       "      <th>text</th>\n",
       "      <th>posts</th>\n",
       "      <th>swedishfish</th>\n",
       "    </tr>\n",
       "  </thead>\n",
       "  <tbody>\n",
       "    <tr>\n",
       "      <th>0</th>\n",
       "      <td>0</td>\n",
       "      <td>nocturne</td>\n",
       "      <td>I used \"chat\" rather. Told the \"counselor\" my ...</td>\n",
       "      <td>70.0</td>\n",
       "      <td>11.00</td>\n",
       "    </tr>\n",
       "    <tr>\n",
       "      <th>1</th>\n",
       "      <td>1</td>\n",
       "      <td>gpp98933</td>\n",
       "      <td>hi, I'm 15 years old, and since i'm 12 i've be...</td>\n",
       "      <td>3.0</td>\n",
       "      <td>0.00</td>\n",
       "    </tr>\n",
       "    <tr>\n",
       "      <th>2</th>\n",
       "      <td>2</td>\n",
       "      <td>Gxdhatesme</td>\n",
       "      <td>Words are not enough to describe the anger, th...</td>\n",
       "      <td>4.0</td>\n",
       "      <td>0.00</td>\n",
       "    </tr>\n",
       "    <tr>\n",
       "      <th>3</th>\n",
       "      <td>3</td>\n",
       "      <td>Piece of crap</td>\n",
       "      <td>deleted</td>\n",
       "      <td>1.0</td>\n",
       "      <td>0.00</td>\n",
       "    </tr>\n",
       "    <tr>\n",
       "      <th>4</th>\n",
       "      <td>4</td>\n",
       "      <td>FalseSmile</td>\n",
       "      <td>Before anyone reads this please understand i a...</td>\n",
       "      <td>1.0</td>\n",
       "      <td>0.00</td>\n",
       "    </tr>\n",
       "  </tbody>\n",
       "</table>\n",
       "</div>"
      ],
      "text/plain": [
       "   Unnamed: 0       username  \\\n",
       "0           0       nocturne   \n",
       "1           1       gpp98933   \n",
       "2           2     Gxdhatesme   \n",
       "3           3  Piece of crap   \n",
       "4           4     FalseSmile   \n",
       "\n",
       "                                                text  posts swedishfish  \n",
       "0  I used \"chat\" rather. Told the \"counselor\" my ...   70.0       11.00  \n",
       "1  hi, I'm 15 years old, and since i'm 12 i've be...    3.0        0.00  \n",
       "2  Words are not enough to describe the anger, th...    4.0        0.00  \n",
       "3                                            deleted    1.0        0.00  \n",
       "4  Before anyone reads this please understand i a...    1.0        0.00  "
      ]
     },
     "execution_count": 7,
     "metadata": {},
     "output_type": "execute_result"
    }
   ],
   "source": [
    "suicide.head()"
   ]
  },
  {
   "cell_type": "code",
   "execution_count": 8,
   "metadata": {
    "collapsed": true
   },
   "outputs": [],
   "source": [
    "suicide.drop(\"Unnamed: 0\",axis=1,inplace=True)"
   ]
  },
  {
   "cell_type": "code",
   "execution_count": 9,
   "metadata": {},
   "outputs": [
    {
     "data": {
      "text/plain": [
       "username         0\n",
       "text            10\n",
       "posts          186\n",
       "swedishfish     34\n",
       "dtype: int64"
      ]
     },
     "execution_count": 9,
     "metadata": {},
     "output_type": "execute_result"
    }
   ],
   "source": [
    "depression.isnull().sum()"
   ]
  },
  {
   "cell_type": "code",
   "execution_count": 10,
   "metadata": {},
   "outputs": [
    {
     "data": {
      "text/plain": [
       "username         0\n",
       "text             2\n",
       "posts           63\n",
       "swedishfish    243\n",
       "dtype: int64"
      ]
     },
     "execution_count": 10,
     "metadata": {},
     "output_type": "execute_result"
    }
   ],
   "source": [
    "suicide.isnull().sum()"
   ]
  },
  {
   "cell_type": "code",
   "execution_count": 11,
   "metadata": {
    "collapsed": true
   },
   "outputs": [],
   "source": [
    "depression['username']=[name.replace(' ','_').lower() for name in depression.username]"
   ]
  },
  {
   "cell_type": "code",
   "execution_count": 12,
   "metadata": {
    "collapsed": true
   },
   "outputs": [],
   "source": [
    "suicide['username']=[name.replace(' ','_').lower() for name in suicide.username]"
   ]
  },
  {
   "cell_type": "code",
   "execution_count": 13,
   "metadata": {
    "collapsed": true
   },
   "outputs": [],
   "source": [
    "depression.rename(columns={'posts':'siteposts'},inplace=True)\n",
    "suicide.rename(columns={'posts':'siteposts'},inplace=True)"
   ]
  },
  {
   "cell_type": "code",
   "execution_count": 14,
   "metadata": {},
   "outputs": [
    {
     "data": {
      "text/plain": [
       "username        object\n",
       "text            object\n",
       "siteposts      float64\n",
       "swedishfish     object\n",
       "dtype: object"
      ]
     },
     "execution_count": 14,
     "metadata": {},
     "output_type": "execute_result"
    }
   ],
   "source": [
    "suicide.dtypes"
   ]
  },
  {
   "cell_type": "code",
   "execution_count": 15,
   "metadata": {
    "collapsed": true
   },
   "outputs": [],
   "source": [
    "depression=depression.dropna(how='any',subset=['text'])\n",
    "suicide=suicide.dropna(how='any',subset=['text'])"
   ]
  },
  {
   "cell_type": "code",
   "execution_count": 16,
   "metadata": {},
   "outputs": [
    {
     "data": {
      "text/plain": [
       "username         0\n",
       "text             0\n",
       "siteposts      186\n",
       "swedishfish     34\n",
       "dtype: int64"
      ]
     },
     "execution_count": 16,
     "metadata": {},
     "output_type": "execute_result"
    }
   ],
   "source": [
    "depression.isnull().sum()"
   ]
  },
  {
   "cell_type": "code",
   "execution_count": 17,
   "metadata": {
    "collapsed": true
   },
   "outputs": [],
   "source": [
    "depression.drop_duplicates(inplace=True)\n",
    "suicide.drop_duplicates(inplace=True)"
   ]
  },
  {
   "cell_type": "code",
   "execution_count": 18,
   "metadata": {
    "collapsed": true
   },
   "outputs": [],
   "source": [
    "dnames=depression.username.unique()\n",
    "snames=suicide.username.unique()"
   ]
  },
  {
   "cell_type": "code",
   "execution_count": 19,
   "metadata": {
    "collapsed": true
   },
   "outputs": [],
   "source": [
    "overlaps=[]\n",
    "for item in dnames:\n",
    "    if item in snames:\n",
    "        overlaps.append(item)\n"
   ]
  },
  {
   "cell_type": "code",
   "execution_count": 20,
   "metadata": {},
   "outputs": [
    {
     "name": "stdout",
     "output_type": "stream",
     "text": [
      "6812\n",
      "3303\n",
      "1093\n"
     ]
    }
   ],
   "source": [
    "print len(dnames)\n",
    "print len(snames)\n",
    "print len(overlaps)"
   ]
  },
  {
   "cell_type": "code",
   "execution_count": 21,
   "metadata": {
    "collapsed": true
   },
   "outputs": [],
   "source": [
    "overlapdummy=[]\n",
    "for item in depression.username:\n",
    "    if item in snames:\n",
    "        overlapdummy.append(1)\n",
    "    else:\n",
    "        overlapdummy.append(0)"
   ]
  },
  {
   "cell_type": "code",
   "execution_count": 22,
   "metadata": {},
   "outputs": [
    {
     "data": {
      "text/plain": [
       "17397"
      ]
     },
     "execution_count": 22,
     "metadata": {},
     "output_type": "execute_result"
    }
   ],
   "source": [
    "len(overlapdummy)"
   ]
  },
  {
   "cell_type": "code",
   "execution_count": 23,
   "metadata": {},
   "outputs": [
    {
     "data": {
      "text/plain": [
       "17397"
      ]
     },
     "execution_count": 23,
     "metadata": {},
     "output_type": "execute_result"
    }
   ],
   "source": [
    "len(depression)"
   ]
  },
  {
   "cell_type": "code",
   "execution_count": 24,
   "metadata": {
    "collapsed": true
   },
   "outputs": [],
   "source": [
    "depression['insuicide']=overlapdummy"
   ]
  },
  {
   "cell_type": "code",
   "execution_count": 25,
   "metadata": {},
   "outputs": [
    {
     "data": {
      "text/html": [
       "<div>\n",
       "<style>\n",
       "    .dataframe thead tr:only-child th {\n",
       "        text-align: right;\n",
       "    }\n",
       "\n",
       "    .dataframe thead th {\n",
       "        text-align: left;\n",
       "    }\n",
       "\n",
       "    .dataframe tbody tr th {\n",
       "        vertical-align: top;\n",
       "    }\n",
       "</style>\n",
       "<table border=\"1\" class=\"dataframe\">\n",
       "  <thead>\n",
       "    <tr style=\"text-align: right;\">\n",
       "      <th></th>\n",
       "      <th>username</th>\n",
       "      <th>text</th>\n",
       "      <th>siteposts</th>\n",
       "      <th>swedishfish</th>\n",
       "      <th>insuicide</th>\n",
       "    </tr>\n",
       "  </thead>\n",
       "  <tbody>\n",
       "    <tr>\n",
       "      <th>0</th>\n",
       "      <td>juno2</td>\n",
       "      <td>I've kept my depression and OCD hidden from my...</td>\n",
       "      <td>7.00</td>\n",
       "      <td>0.00</td>\n",
       "      <td>0</td>\n",
       "    </tr>\n",
       "    <tr>\n",
       "      <th>1</th>\n",
       "      <td>timetourist</td>\n",
       "      <td>I've had clinical depression for a little over...</td>\n",
       "      <td>36.00</td>\n",
       "      <td>23.00</td>\n",
       "      <td>0</td>\n",
       "    </tr>\n",
       "    <tr>\n",
       "      <th>2</th>\n",
       "      <td>insearchofpeople</td>\n",
       "      <td>Yesterday I quit my job of 5 years. This job g...</td>\n",
       "      <td>268.00</td>\n",
       "      <td>92.00</td>\n",
       "      <td>1</td>\n",
       "    </tr>\n",
       "    <tr>\n",
       "      <th>3</th>\n",
       "      <td>insearchofpeople</td>\n",
       "      <td>I got a new roommate. A guy who found me on FB...</td>\n",
       "      <td>268.00</td>\n",
       "      <td>92.00</td>\n",
       "      <td>1</td>\n",
       "    </tr>\n",
       "    <tr>\n",
       "      <th>4</th>\n",
       "      <td>lilyfrog</td>\n",
       "      <td>Ok. Had a really bad weekend this weekend gone...</td>\n",
       "      <td>164.00</td>\n",
       "      <td>271.00</td>\n",
       "      <td>1</td>\n",
       "    </tr>\n",
       "    <tr>\n",
       "      <th>5</th>\n",
       "      <td>callherblackmariah</td>\n",
       "      <td>Everyday I see people going about their lives....</td>\n",
       "      <td>1.00</td>\n",
       "      <td>0.00</td>\n",
       "      <td>0</td>\n",
       "    </tr>\n",
       "    <tr>\n",
       "      <th>6</th>\n",
       "      <td>sensualgirl</td>\n",
       "      <td>All the suffering I went through, and now I'm ...</td>\n",
       "      <td>5349.00</td>\n",
       "      <td>681.00</td>\n",
       "      <td>0</td>\n",
       "    </tr>\n",
       "    <tr>\n",
       "      <th>7</th>\n",
       "      <td>lavendernothing</td>\n",
       "      <td>I'm a 23 year olds and I've been drawing since...</td>\n",
       "      <td>2.00</td>\n",
       "      <td>0.00</td>\n",
       "      <td>1</td>\n",
       "    </tr>\n",
       "    <tr>\n",
       "      <th>8</th>\n",
       "      <td>insearchofpeople</td>\n",
       "      <td>So I wasn't sure about my new roommate. We see...</td>\n",
       "      <td>268.00</td>\n",
       "      <td>92.00</td>\n",
       "      <td>1</td>\n",
       "    </tr>\n",
       "    <tr>\n",
       "      <th>9</th>\n",
       "      <td>always_lonely</td>\n",
       "      <td>Hi, I am a good and giving person normally and...</td>\n",
       "      <td>2.00</td>\n",
       "      <td>0.00</td>\n",
       "      <td>0</td>\n",
       "    </tr>\n",
       "  </tbody>\n",
       "</table>\n",
       "</div>"
      ],
      "text/plain": [
       "             username                                               text  \\\n",
       "0               juno2  I've kept my depression and OCD hidden from my...   \n",
       "1         timetourist  I've had clinical depression for a little over...   \n",
       "2    insearchofpeople  Yesterday I quit my job of 5 years. This job g...   \n",
       "3    insearchofpeople  I got a new roommate. A guy who found me on FB...   \n",
       "4            lilyfrog  Ok. Had a really bad weekend this weekend gone...   \n",
       "5  callherblackmariah  Everyday I see people going about their lives....   \n",
       "6         sensualgirl  All the suffering I went through, and now I'm ...   \n",
       "7     lavendernothing  I'm a 23 year olds and I've been drawing since...   \n",
       "8    insearchofpeople  So I wasn't sure about my new roommate. We see...   \n",
       "9       always_lonely  Hi, I am a good and giving person normally and...   \n",
       "\n",
       "  siteposts swedishfish  insuicide  \n",
       "0      7.00        0.00          0  \n",
       "1     36.00       23.00          0  \n",
       "2    268.00       92.00          1  \n",
       "3    268.00       92.00          1  \n",
       "4    164.00      271.00          1  \n",
       "5      1.00        0.00          0  \n",
       "6   5349.00      681.00          0  \n",
       "7      2.00        0.00          1  \n",
       "8    268.00       92.00          1  \n",
       "9      2.00        0.00          0  "
      ]
     },
     "execution_count": 25,
     "metadata": {},
     "output_type": "execute_result"
    }
   ],
   "source": [
    "depression.head(10)"
   ]
  },
  {
   "cell_type": "code",
   "execution_count": 26,
   "metadata": {
    "collapsed": true
   },
   "outputs": [],
   "source": [
    "overlapdummys=[]\n",
    "for item in suicide.username:\n",
    "    if item in dnames:\n",
    "        overlapdummys.append(1)\n",
    "    else:\n",
    "        overlapdummys.append(0)"
   ]
  },
  {
   "cell_type": "code",
   "execution_count": null,
   "metadata": {
    "collapsed": true
   },
   "outputs": [],
   "source": []
  },
  {
   "cell_type": "code",
   "execution_count": 27,
   "metadata": {},
   "outputs": [
    {
     "data": {
      "text/plain": [
       "6920"
      ]
     },
     "execution_count": 27,
     "metadata": {},
     "output_type": "execute_result"
    }
   ],
   "source": [
    "len(overlapdummys)"
   ]
  },
  {
   "cell_type": "code",
   "execution_count": 28,
   "metadata": {},
   "outputs": [
    {
     "data": {
      "text/plain": [
       "6920"
      ]
     },
     "execution_count": 28,
     "metadata": {},
     "output_type": "execute_result"
    }
   ],
   "source": [
    "len(suicide)"
   ]
  },
  {
   "cell_type": "code",
   "execution_count": 29,
   "metadata": {
    "collapsed": true
   },
   "outputs": [],
   "source": [
    "suicide['indepression']=overlapdummys"
   ]
  },
  {
   "cell_type": "code",
   "execution_count": 30,
   "metadata": {
    "collapsed": true
   },
   "outputs": [],
   "source": [
    "m1=suicide.username=='silent_cry'\n",
    "m2=suicide.username=='brandysnap'\n",
    "m3=suicide.username=='unhappy19uk'\n",
    "m4=suicide.username=='tears_of_stone'\n",
    "m5=suicide.username=='dreamer'\n",
    "m6=suicide.username=='strawbean'\n",
    "m7=suicide.username=='gracekeeper'\n",
    "m8=suicide.username=='shuddering_desolation'\n",
    "m9=suicide.username=='unhappy19uk'\n",
    "m10=suicide.username=='funnybone'\n",
    "m11=suicide.username=='girllost'\n",
    "m12=suicide.username=='kajay15'\n",
    "suicide.loc[m1,'siteposts']=22768\n",
    "suicide.loc[m2,'siteposts']=22164\n",
    "suicide.loc[m3,'swedishfish']=34\n",
    "suicide.loc[m3,'siteposts']=820\n",
    "suicide.loc[m4,'siteposts']=1356\n",
    "suicide.loc[m4,'swedishfish']=389\n",
    "suicide.loc[m5,'siteposts']=4075\n",
    "suicide.loc[m6,'siteposts']=11029\n",
    "suicide.loc[m7,'siteposts']=271\n",
    "suicide.loc[m8,'siteposts']=49\n",
    "suicide.loc[m9,'siteposts']=820\n",
    "suicide.loc[m10,'siteposts']=141\n",
    "suicide.loc[m11,'siteposts']=148\n",
    "suicide.loc[m12,'siteposts']=14\n",
    "suicide.loc[m5,'swedishfish']=0\n",
    "suicide.loc[m6,'swedishfish']=478\n",
    "suicide.loc[m7,'swedishfish']=0\n",
    "suicide.loc[m8,'swedishfish']=0\n",
    "suicide.loc[m9,'swedishfish']=34\n",
    "suicide.loc[m10,'swedishfish']=1\n",
    "suicide.loc[m11,'swedishfish']=11\n",
    "suicide.loc[m12,'swedishfish']=0\n",
    "m13=suicide.username=='crimson'\n",
    "suicide.loc[m13,'swedishfish']=58\n",
    "m14=suicide.username=='blackrosesxbleedinghearts'\n",
    "suicide.loc[m14,'swedishfish']=609\n",
    "m15=suicide.username=='venom'\n",
    "suicide.loc[m15,'swedishfish']=1515\n",
    "m16=suicide.username=='rastronomy'\n",
    "suicide.loc[m16,'swedishfish']=30\n",
    "m17=suicide.username=='hiddenstorms'\n",
    "suicide.loc[m17,'swedishfish']=604\n",
    "m18=suicide.username=='versae'\n",
    "suicide.loc[m18,'swedishfish']=2059\n",
    "m19=suicide.username=='kiss_of_darkness'\n",
    "suicide.loc[m19,'swedishfish']=0\n",
    "m20=suicide.username=='albinorat'\n",
    "suicide.loc[m20,'swedishfish']=200\n",
    "m21=suicide.swedishfish.isnull()\n",
    "suicide.loc[m21,'swedishfish']=15"
   ]
  },
  {
   "cell_type": "code",
   "execution_count": 31,
   "metadata": {
    "collapsed": true
   },
   "outputs": [],
   "source": [
    "depression2=pd.DataFrame(depression)"
   ]
  },
  {
   "cell_type": "code",
   "execution_count": 32,
   "metadata": {},
   "outputs": [
    {
     "data": {
      "text/plain": [
       "username         0\n",
       "text             0\n",
       "siteposts      186\n",
       "swedishfish     34\n",
       "insuicide        0\n",
       "dtype: int64"
      ]
     },
     "execution_count": 32,
     "metadata": {},
     "output_type": "execute_result"
    }
   ],
   "source": [
    "depression2.isnull().sum()"
   ]
  },
  {
   "cell_type": "code",
   "execution_count": 33,
   "metadata": {
    "collapsed": true
   },
   "outputs": [],
   "source": [
    "depression2.dropna(how='any',inplace=True)"
   ]
  },
  {
   "cell_type": "code",
   "execution_count": 34,
   "metadata": {
    "collapsed": true
   },
   "outputs": [],
   "source": [
    "suicide2=pd.DataFrame(suicide)"
   ]
  },
  {
   "cell_type": "code",
   "execution_count": 35,
   "metadata": {},
   "outputs": [
    {
     "data": {
      "text/plain": [
       "username         object\n",
       "text             object\n",
       "siteposts       float64\n",
       "swedishfish      object\n",
       "indepression      int64\n",
       "dtype: object"
      ]
     },
     "execution_count": 35,
     "metadata": {},
     "output_type": "execute_result"
    }
   ],
   "source": [
    "suicide2.dtypes"
   ]
  },
  {
   "cell_type": "code",
   "execution_count": 36,
   "metadata": {},
   "outputs": [
    {
     "data": {
      "text/plain": [
       "(17177, 5)"
      ]
     },
     "execution_count": 36,
     "metadata": {},
     "output_type": "execute_result"
    }
   ],
   "source": [
    "depression2.shape"
   ]
  },
  {
   "cell_type": "code",
   "execution_count": 37,
   "metadata": {},
   "outputs": [
    {
     "data": {
      "text/plain": [
       "(6920, 5)"
      ]
     },
     "execution_count": 37,
     "metadata": {},
     "output_type": "execute_result"
    }
   ],
   "source": [
    "suicide2.shape"
   ]
  },
  {
   "cell_type": "code",
   "execution_count": 38,
   "metadata": {
    "collapsed": true
   },
   "outputs": [],
   "source": [
    "depression2['swedishfish'] = pd.to_numeric(depression2.swedishfish, errors='coerce')\n",
    "depression2['siteposts'] = pd.to_numeric(depression2.siteposts, errors='coerce')\n",
    "suicide2['siteposts'] = pd.to_numeric(suicide2.siteposts, errors='coerce')\n",
    "suicide2['swedishfish'] = pd.to_numeric(suicide2.swedishfish, errors='coerce')\n",
    "# suicide['swedishfish'] = suicide['swedishfish'].astype(float)\n",
    "# depression['siteposts'] = depression['siteposts'].astype(float)\n",
    "# suicide['siteposts'] = suicide['siteposts'].astype(float)"
   ]
  },
  {
   "cell_type": "code",
   "execution_count": 39,
   "metadata": {
    "collapsed": true
   },
   "outputs": [],
   "source": [
    "# depression['swedishfish']=depression['swedishfish'].strip('')\n",
    "# depression['siteposts']=depression['siteposts'].replace(',')\n",
    "# suicide['swedishfish']=suicide['swedishfish'].replace(',')\n",
    "# suicide['siteposts']=suicide['siteposts'].replace(',')"
   ]
  },
  {
   "cell_type": "code",
   "execution_count": 40,
   "metadata": {},
   "outputs": [
    {
     "data": {
      "text/plain": [
       "username        0\n",
       "text            0\n",
       "siteposts       0\n",
       "swedishfish     1\n",
       "indepression    0\n",
       "dtype: int64"
      ]
     },
     "execution_count": 40,
     "metadata": {},
     "output_type": "execute_result"
    }
   ],
   "source": [
    "suicide2.isnull().sum()"
   ]
  },
  {
   "cell_type": "code",
   "execution_count": 41,
   "metadata": {},
   "outputs": [
    {
     "data": {
      "text/plain": [
       "username         0\n",
       "text             0\n",
       "siteposts      211\n",
       "swedishfish      8\n",
       "insuicide        0\n",
       "dtype: int64"
      ]
     },
     "execution_count": 41,
     "metadata": {},
     "output_type": "execute_result"
    }
   ],
   "source": [
    "depression2.isnull().sum()"
   ]
  },
  {
   "cell_type": "code",
   "execution_count": 42,
   "metadata": {
    "collapsed": true
   },
   "outputs": [],
   "source": [
    "depression2.dropna(how='any',inplace=True)"
   ]
  },
  {
   "cell_type": "code",
   "execution_count": 43,
   "metadata": {
    "collapsed": true
   },
   "outputs": [],
   "source": [
    "suicide2.dropna(how='any',inplace=True)"
   ]
  },
  {
   "cell_type": "code",
   "execution_count": 44,
   "metadata": {
    "collapsed": true
   },
   "outputs": [],
   "source": [
    "smerged=suicide2.groupby('username').agg({'text':'sum','swedishfish':'max','siteposts':'max','indepression':'max'})"
   ]
  },
  {
   "cell_type": "code",
   "execution_count": 45,
   "metadata": {
    "collapsed": true
   },
   "outputs": [],
   "source": [
    "dmerged=depression2.groupby('username').agg({'text':'sum','swedishfish':'max','siteposts':'max','insuicide':'max'})"
   ]
  },
  {
   "cell_type": "code",
   "execution_count": 60,
   "metadata": {},
   "outputs": [
    {
     "data": {
      "text/html": [
       "<div>\n",
       "<style>\n",
       "    .dataframe thead tr:only-child th {\n",
       "        text-align: right;\n",
       "    }\n",
       "\n",
       "    .dataframe thead th {\n",
       "        text-align: left;\n",
       "    }\n",
       "\n",
       "    .dataframe tbody tr th {\n",
       "        vertical-align: top;\n",
       "    }\n",
       "</style>\n",
       "<table border=\"1\" class=\"dataframe\">\n",
       "  <thead>\n",
       "    <tr style=\"text-align: right;\">\n",
       "      <th></th>\n",
       "      <th>swedishfish</th>\n",
       "      <th>indepression</th>\n",
       "      <th>siteposts</th>\n",
       "    </tr>\n",
       "  </thead>\n",
       "  <tbody>\n",
       "    <tr>\n",
       "      <th>count</th>\n",
       "      <td>3276.000000</td>\n",
       "      <td>3276.000000</td>\n",
       "      <td>3276.000000</td>\n",
       "    </tr>\n",
       "    <tr>\n",
       "      <th>mean</th>\n",
       "      <td>27.463675</td>\n",
       "      <td>0.326007</td>\n",
       "      <td>99.235043</td>\n",
       "    </tr>\n",
       "    <tr>\n",
       "      <th>std</th>\n",
       "      <td>303.927407</td>\n",
       "      <td>0.468822</td>\n",
       "      <td>379.929910</td>\n",
       "    </tr>\n",
       "    <tr>\n",
       "      <th>min</th>\n",
       "      <td>0.000000</td>\n",
       "      <td>0.000000</td>\n",
       "      <td>1.000000</td>\n",
       "    </tr>\n",
       "    <tr>\n",
       "      <th>25%</th>\n",
       "      <td>0.000000</td>\n",
       "      <td>0.000000</td>\n",
       "      <td>2.000000</td>\n",
       "    </tr>\n",
       "    <tr>\n",
       "      <th>50%</th>\n",
       "      <td>0.000000</td>\n",
       "      <td>0.000000</td>\n",
       "      <td>6.000000</td>\n",
       "    </tr>\n",
       "    <tr>\n",
       "      <th>75%</th>\n",
       "      <td>0.000000</td>\n",
       "      <td>1.000000</td>\n",
       "      <td>30.000000</td>\n",
       "    </tr>\n",
       "    <tr>\n",
       "      <th>max</th>\n",
       "      <td>13337.000000</td>\n",
       "      <td>1.000000</td>\n",
       "      <td>4897.000000</td>\n",
       "    </tr>\n",
       "  </tbody>\n",
       "</table>\n",
       "</div>"
      ],
      "text/plain": [
       "        swedishfish  indepression    siteposts\n",
       "count   3276.000000   3276.000000  3276.000000\n",
       "mean      27.463675      0.326007    99.235043\n",
       "std      303.927407      0.468822   379.929910\n",
       "min        0.000000      0.000000     1.000000\n",
       "25%        0.000000      0.000000     2.000000\n",
       "50%        0.000000      0.000000     6.000000\n",
       "75%        0.000000      1.000000    30.000000\n",
       "max    13337.000000      1.000000  4897.000000"
      ]
     },
     "execution_count": 60,
     "metadata": {},
     "output_type": "execute_result"
    }
   ],
   "source": [
    "smerged[smerged['siteposts']<5000].describe()"
   ]
  },
  {
   "cell_type": "code",
   "execution_count": 61,
   "metadata": {},
   "outputs": [
    {
     "data": {
      "text/html": [
       "<div>\n",
       "<style>\n",
       "    .dataframe thead tr:only-child th {\n",
       "        text-align: right;\n",
       "    }\n",
       "\n",
       "    .dataframe thead th {\n",
       "        text-align: left;\n",
       "    }\n",
       "\n",
       "    .dataframe tbody tr th {\n",
       "        vertical-align: top;\n",
       "    }\n",
       "</style>\n",
       "<table border=\"1\" class=\"dataframe\">\n",
       "  <thead>\n",
       "    <tr style=\"text-align: right;\">\n",
       "      <th></th>\n",
       "      <th>swedishfish</th>\n",
       "      <th>insuicide</th>\n",
       "      <th>siteposts</th>\n",
       "    </tr>\n",
       "  </thead>\n",
       "  <tbody>\n",
       "    <tr>\n",
       "      <th>count</th>\n",
       "      <td>6688.000000</td>\n",
       "      <td>6688.000000</td>\n",
       "      <td>6688.000000</td>\n",
       "    </tr>\n",
       "    <tr>\n",
       "      <th>mean</th>\n",
       "      <td>18.282895</td>\n",
       "      <td>0.156848</td>\n",
       "      <td>61.983852</td>\n",
       "    </tr>\n",
       "    <tr>\n",
       "      <th>std</th>\n",
       "      <td>252.888320</td>\n",
       "      <td>0.363685</td>\n",
       "      <td>292.396126</td>\n",
       "    </tr>\n",
       "    <tr>\n",
       "      <th>min</th>\n",
       "      <td>0.000000</td>\n",
       "      <td>0.000000</td>\n",
       "      <td>0.000000</td>\n",
       "    </tr>\n",
       "    <tr>\n",
       "      <th>25%</th>\n",
       "      <td>0.000000</td>\n",
       "      <td>0.000000</td>\n",
       "      <td>2.000000</td>\n",
       "    </tr>\n",
       "    <tr>\n",
       "      <th>50%</th>\n",
       "      <td>0.000000</td>\n",
       "      <td>0.000000</td>\n",
       "      <td>4.000000</td>\n",
       "    </tr>\n",
       "    <tr>\n",
       "      <th>75%</th>\n",
       "      <td>0.000000</td>\n",
       "      <td>0.000000</td>\n",
       "      <td>17.000000</td>\n",
       "    </tr>\n",
       "    <tr>\n",
       "      <th>max</th>\n",
       "      <td>13337.000000</td>\n",
       "      <td>1.000000</td>\n",
       "      <td>4897.000000</td>\n",
       "    </tr>\n",
       "  </tbody>\n",
       "</table>\n",
       "</div>"
      ],
      "text/plain": [
       "        swedishfish    insuicide    siteposts\n",
       "count   6688.000000  6688.000000  6688.000000\n",
       "mean      18.282895     0.156848    61.983852\n",
       "std      252.888320     0.363685   292.396126\n",
       "min        0.000000     0.000000     0.000000\n",
       "25%        0.000000     0.000000     2.000000\n",
       "50%        0.000000     0.000000     4.000000\n",
       "75%        0.000000     0.000000    17.000000\n",
       "max    13337.000000     1.000000  4897.000000"
      ]
     },
     "execution_count": 61,
     "metadata": {},
     "output_type": "execute_result"
    }
   ],
   "source": [
    "dmerged[dmerged['siteposts']<5000].describe()"
   ]
  },
  {
   "cell_type": "code",
   "execution_count": 58,
   "metadata": {},
   "outputs": [
    {
     "data": {
      "image/png": "[encoded data removed]",
      "text/plain": [
       "<matplotlib.figure.Figure at 0x115ef2050>"
      ]
     },
     "metadata": {},
     "output_type": "display_data"
    }
   ],
   "source": [
    "x=dmerged.insuicide\n",
    "y=dmerged.siteposts\n",
    "plt.scatter(x,y,alpha=.3)\n",
    "plt.xkcd\n",
    "plt.show()"
   ]
  },
  {
   "cell_type": "code",
   "execution_count": null,
   "metadata": {},
   "outputs": [],
   "source": []
  },
  {
   "cell_type": "code",
   "execution_count": 52,
   "metadata": {},
   "outputs": [
    {
     "data": {
      "image/png": "[encoded data removed]",
      "text/plain": [
       "<matplotlib.figure.Figure at 0x1151950d0>"
      ]
     },
     "metadata": {},
     "output_type": "display_data"
    }
   ],
   "source": [
    "x=dmerged.insuicide\n",
    "y=dmerged.swedishfish\n",
    "plt.scatter(x,y,alpha=.3)\n",
    "plt.show()"
   ]
  },
  {
   "cell_type": "code",
   "execution_count": null,
   "metadata": {
    "collapsed": true
   },
   "outputs": [],
   "source": []
  },
  {
   "cell_type": "code",
   "execution_count": 50,
   "metadata": {
    "collapsed": true
   },
   "outputs": [],
   "source": [
    "depression.to_csv(\"/Users/yonilevine/Desktop/Capstone/datasets/depressionnlp.csv\")"
   ]
  },
  {
   "cell_type": "code",
   "execution_count": null,
   "metadata": {},
   "outputs": [],
   "source": []
  },
  {
   "cell_type": "code",
   "execution_count": null,
   "metadata": {},
   "outputs": [],
   "source": []
  },
  {
   "cell_type": "code",
   "execution_count": null,
   "metadata": {
    "collapsed": true
   },
   "outputs": [],
   "source": []
  },
  {
   "cell_type": "code",
   "execution_count": null,
   "metadata": {
    "collapsed": true
   },
   "outputs": [],
   "source": []
  },
  {
   "cell_type": "code",
   "execution_count": null,
   "metadata": {
    "collapsed": true
   },
   "outputs": [],
   "source": []
  },
  {
   "cell_type": "code",
   "execution_count": null,
   "metadata": {
    "collapsed": true
   },
   "outputs": [],
   "source": []
  },
  {
   "cell_type": "code",
   "execution_count": null,
   "metadata": {
    "collapsed": true
   },
   "outputs": [],
   "source": [
    "def triangle_prob(n):\n",
    "    count=0\n",
    "    for i in range(n):\n",
    "        b1=np.random.uniform(0,1)\n",
    "        b2=np.random.uniform(0,1)\n",
    "        if max(1-max(b1,b2),\n",
    "               min(b1,b2),\n",
    "               abs(b1-b2))<.5:\n",
    "            count+=1\n",
    "    return count/float(n)    \n"
   ]
  },
  {
   "cell_type": "code",
   "execution_count": null,
   "metadata": {
    "collapsed": true
   },
   "outputs": [],
   "source": [
    "triangle_prob(1000000)"
   ]
  },
  {
   "cell_type": "code",
   "execution_count": 61,
   "metadata": {
    "collapsed": true
   },
   "outputs": [],
   "source": []
  },
  {
   "cell_type": "code",
   "execution_count": null,
   "metadata": {
    "collapsed": true
   },
   "outputs": [],
   "source": []
  },
  {
   "cell_type": "code",
   "execution_count": null,
   "metadata": {
    "collapsed": true
   },
   "outputs": [],
   "source": []
  },
  {
   "cell_type": "code",
   "execution_count": null,
   "metadata": {
    "collapsed": true
   },
   "outputs": [],
   "source": []
  }
 ],
 "metadata": {
  "kernelspec": {
   "display_name": "Python 2",
   "language": "python",
   "name": "python2"
  },
  "language_info": {
   "codemirror_mode": {
    "name": "ipython",
    "version": 2
   },
   "file_extension": ".py",
   "mimetype": "text/x-python",
   "name": "python",
   "nbconvert_exporter": "python",
   "pygments_lexer": "ipython2",
   "version": "2.7.13"
  }
 },
 "nbformat": 4,
 "nbformat_minor": 2
}
